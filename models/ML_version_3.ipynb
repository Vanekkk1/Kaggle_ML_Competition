{
 "cells": [
  {
   "cell_type": "code",
   "execution_count": 1,
   "metadata": {
    "tags": []
   },
   "outputs": [
    {
     "ename": "ModuleNotFoundError",
     "evalue": "No module named 'matplotlib'",
     "output_type": "error",
     "traceback": [
      "\u001b[0;31m---------------------------------------------------------------------------\u001b[0m",
      "\u001b[0;31mModuleNotFoundError\u001b[0m                       Traceback (most recent call last)",
      "\u001b[1;32m/Users/ivantrue/Library/CloudStorage/GoogleDrive-vanekmay@gmail.com/My Drive/Life /Programming&ML/ML_Projects/Indian_Crop_Prediction/ML_version_3.ipynb Cell 1\u001b[0m line \u001b[0;36m3\n\u001b[1;32m      <a href='vscode-notebook-cell:/Users/ivantrue/Library/CloudStorage/GoogleDrive-vanekmay%40gmail.com/My%20Drive/Life%20/Programming%26ML/ML_Projects/Indian_Crop_Prediction/ML_version_3.ipynb#W0sZmlsZQ%3D%3D?line=0'>1</a>\u001b[0m \u001b[39mimport\u001b[39;00m \u001b[39mpandas\u001b[39;00m \u001b[39mas\u001b[39;00m \u001b[39mpd\u001b[39;00m \n\u001b[1;32m      <a href='vscode-notebook-cell:/Users/ivantrue/Library/CloudStorage/GoogleDrive-vanekmay%40gmail.com/My%20Drive/Life%20/Programming%26ML/ML_Projects/Indian_Crop_Prediction/ML_version_3.ipynb#W0sZmlsZQ%3D%3D?line=1'>2</a>\u001b[0m \u001b[39mimport\u001b[39;00m \u001b[39mnumpy\u001b[39;00m \u001b[39mas\u001b[39;00m \u001b[39mnp\u001b[39;00m\n\u001b[0;32m----> <a href='vscode-notebook-cell:/Users/ivantrue/Library/CloudStorage/GoogleDrive-vanekmay%40gmail.com/My%20Drive/Life%20/Programming%26ML/ML_Projects/Indian_Crop_Prediction/ML_version_3.ipynb#W0sZmlsZQ%3D%3D?line=2'>3</a>\u001b[0m \u001b[39mimport\u001b[39;00m \u001b[39mmatplotlib\u001b[39;00m\u001b[39m.\u001b[39;00m\u001b[39mpyplot\u001b[39;00m \u001b[39mas\u001b[39;00m \u001b[39mplt\u001b[39;00m\n",
      "\u001b[0;31mModuleNotFoundError\u001b[0m: No module named 'matplotlib'"
     ]
    }
   ],
   "source": [
    "import pandas as pd \n",
    "import numpy as np\n",
    "import matplotlib.pyplot as plt\n"
   ]
  },
  {
   "cell_type": "markdown",
   "metadata": {},
   "source": [
    "# Some features will be excluded and values of Yield lower than 0.1 will be dropped compared to model 2"
   ]
  },
  {
   "cell_type": "markdown",
   "metadata": {},
   "source": [
    "# Exploration and Cleaning"
   ]
  },
  {
   "cell_type": "code",
   "execution_count": 3,
   "metadata": {},
   "outputs": [
    {
     "data": {
      "text/html": [
       "<div>\n",
       "<style scoped>\n",
       "    .dataframe tbody tr th:only-of-type {\n",
       "        vertical-align: middle;\n",
       "    }\n",
       "\n",
       "    .dataframe tbody tr th {\n",
       "        vertical-align: top;\n",
       "    }\n",
       "\n",
       "    .dataframe thead th {\n",
       "        text-align: right;\n",
       "    }\n",
       "</style>\n",
       "<table border=\"1\" class=\"dataframe\">\n",
       "  <thead>\n",
       "    <tr style=\"text-align: right;\">\n",
       "      <th></th>\n",
       "      <th>ID</th>\n",
       "      <th>Crop_Year</th>\n",
       "      <th>Area</th>\n",
       "      <th>Production</th>\n",
       "      <th>Annual_Rainfall</th>\n",
       "      <th>Fertilizer</th>\n",
       "      <th>Pesticide</th>\n",
       "      <th>Yield</th>\n",
       "    </tr>\n",
       "  </thead>\n",
       "  <tbody>\n",
       "    <tr>\n",
       "      <th>ID</th>\n",
       "      <td>1.000000</td>\n",
       "      <td>0.390021</td>\n",
       "      <td>0.001170</td>\n",
       "      <td>-0.067046</td>\n",
       "      <td>-0.142394</td>\n",
       "      <td>0.024655</td>\n",
       "      <td>0.016993</td>\n",
       "      <td>-0.068810</td>\n",
       "    </tr>\n",
       "    <tr>\n",
       "      <th>Crop_Year</th>\n",
       "      <td>0.390021</td>\n",
       "      <td>1.000000</td>\n",
       "      <td>-0.035686</td>\n",
       "      <td>0.003366</td>\n",
       "      <td>-0.011187</td>\n",
       "      <td>0.011169</td>\n",
       "      <td>-0.004657</td>\n",
       "      <td>0.002539</td>\n",
       "    </tr>\n",
       "    <tr>\n",
       "      <th>Area</th>\n",
       "      <td>0.001170</td>\n",
       "      <td>-0.035686</td>\n",
       "      <td>1.000000</td>\n",
       "      <td>0.037441</td>\n",
       "      <td>-0.106054</td>\n",
       "      <td>0.973255</td>\n",
       "      <td>0.973479</td>\n",
       "      <td>0.001858</td>\n",
       "    </tr>\n",
       "    <tr>\n",
       "      <th>Production</th>\n",
       "      <td>-0.067046</td>\n",
       "      <td>0.003366</td>\n",
       "      <td>0.037441</td>\n",
       "      <td>1.000000</td>\n",
       "      <td>0.029879</td>\n",
       "      <td>0.039799</td>\n",
       "      <td>0.035171</td>\n",
       "      <td>0.570809</td>\n",
       "    </tr>\n",
       "    <tr>\n",
       "      <th>Annual_Rainfall</th>\n",
       "      <td>-0.142394</td>\n",
       "      <td>-0.011187</td>\n",
       "      <td>-0.106054</td>\n",
       "      <td>0.029879</td>\n",
       "      <td>1.000000</td>\n",
       "      <td>-0.109734</td>\n",
       "      <td>-0.097657</td>\n",
       "      <td>0.020761</td>\n",
       "    </tr>\n",
       "    <tr>\n",
       "      <th>Fertilizer</th>\n",
       "      <td>0.024655</td>\n",
       "      <td>0.011169</td>\n",
       "      <td>0.973255</td>\n",
       "      <td>0.039799</td>\n",
       "      <td>-0.109734</td>\n",
       "      <td>1.000000</td>\n",
       "      <td>0.954991</td>\n",
       "      <td>0.002862</td>\n",
       "    </tr>\n",
       "    <tr>\n",
       "      <th>Pesticide</th>\n",
       "      <td>0.016993</td>\n",
       "      <td>-0.004657</td>\n",
       "      <td>0.973479</td>\n",
       "      <td>0.035171</td>\n",
       "      <td>-0.097657</td>\n",
       "      <td>0.954991</td>\n",
       "      <td>1.000000</td>\n",
       "      <td>0.001782</td>\n",
       "    </tr>\n",
       "    <tr>\n",
       "      <th>Yield</th>\n",
       "      <td>-0.068810</td>\n",
       "      <td>0.002539</td>\n",
       "      <td>0.001858</td>\n",
       "      <td>0.570809</td>\n",
       "      <td>0.020761</td>\n",
       "      <td>0.002862</td>\n",
       "      <td>0.001782</td>\n",
       "      <td>1.000000</td>\n",
       "    </tr>\n",
       "  </tbody>\n",
       "</table>\n",
       "</div>"
      ],
      "text/plain": [
       "                       ID  Crop_Year      Area  Production  Annual_Rainfall  \\\n",
       "ID               1.000000   0.390021  0.001170   -0.067046        -0.142394   \n",
       "Crop_Year        0.390021   1.000000 -0.035686    0.003366        -0.011187   \n",
       "Area             0.001170  -0.035686  1.000000    0.037441        -0.106054   \n",
       "Production      -0.067046   0.003366  0.037441    1.000000         0.029879   \n",
       "Annual_Rainfall -0.142394  -0.011187 -0.106054    0.029879         1.000000   \n",
       "Fertilizer       0.024655   0.011169  0.973255    0.039799        -0.109734   \n",
       "Pesticide        0.016993  -0.004657  0.973479    0.035171        -0.097657   \n",
       "Yield           -0.068810   0.002539  0.001858    0.570809         0.020761   \n",
       "\n",
       "                 Fertilizer  Pesticide     Yield  \n",
       "ID                 0.024655   0.016993 -0.068810  \n",
       "Crop_Year          0.011169  -0.004657  0.002539  \n",
       "Area               0.973255   0.973479  0.001858  \n",
       "Production         0.039799   0.035171  0.570809  \n",
       "Annual_Rainfall   -0.109734  -0.097657  0.020761  \n",
       "Fertilizer         1.000000   0.954991  0.002862  \n",
       "Pesticide          0.954991   1.000000  0.001782  \n",
       "Yield              0.002862   0.001782  1.000000  "
      ]
     },
     "execution_count": 3,
     "metadata": {},
     "output_type": "execute_result"
    }
   ],
   "source": [
    "def cleaning():\n",
    "    df = pd.read_csv('crop_yield.csv', header=0)\n",
    "    df.drop(columns=['Crop_Year', 'Production'], inplace=True)\n",
    "    df = df[(df['Yield'] > 0.1) & (df['Yield'] <= 50)]\n",
    "    df = df[df[\"Crop\"] != 'Coconut']\n",
    "    return df\n"
   ]
  },
  {
   "cell_type": "markdown",
   "metadata": {},
   "source": [
    "# Split Test_Train"
   ]
  },
  {
   "cell_type": "code",
   "execution_count": null,
   "metadata": {},
   "outputs": [],
   "source": [
    "from sklearn.model_selection import train_test_split\n",
    "\n",
    "df = cleaning()\n",
    "\n",
    "print(df.shape)\n",
    "\n",
    "# Define the feature matrix and target variable\n",
    "X = df.drop('Yield', axis=1)\n",
    "y = df['Yield']\n",
    "\n",
    "# Stratified split into training and test sets\n",
    "X_train, X_test, y_train, y_test = train_test_split(X, y, test_size=0.2, stratify=X['Crop'], random_state=42)\n",
    "\n",
    "\n",
    "X_test\n",
    "\n",
    "\n",
    "mdoel = Linear \n",
    "\n",
    "model.fit(X_trai, Y_train)\n",
    "\n",
    "model.predic(X_test)"
   ]
  },
  {
   "cell_type": "markdown",
   "metadata": {},
   "source": [
    "# Processing X_train"
   ]
  },
  {
   "cell_type": "code",
   "execution_count": null,
   "metadata": {
    "tags": []
   },
   "outputs": [],
   "source": [
    "from sklearn.base import BaseEstimator, TransformerMixin\n",
    "from sklearn.pipeline import Pipeline, make_pipeline\n",
    "from sklearn.preprocessing import OneHotEncoder, FunctionTransformer, StandardScaler\n",
    "from sklearn.compose import ColumnTransformer, make_column_selector\n",
    "from sklearn.utils.validation import check_is_fitted\n",
    "import numpy as np\n",
    "import pandas as pd\n",
    "\n",
    "# Custom transformer for frequency encoding\n",
    "class FrequencyEncoder(BaseEstimator, TransformerMixin):\n",
    "    def __init__(self):\n",
    "        self.freq_dict_ = {}\n",
    "\n",
    "    def fit(self, X, y=None):\n",
    "        # Compute the frequency of each category in each column\n",
    "        X_df = pd.DataFrame(X)  # Convert numpy array to DataFrame\n",
    "        self.freq_dict_ = {col: X_df[col].value_counts(normalize=True).to_dict() for col in X_df.columns}\n",
    "        return self\n",
    "\n",
    "    def transform(self, X, y=None):\n",
    "        check_is_fitted(self)\n",
    "        X_transformed = pd.DataFrame(X).copy()  # Convert numpy array to DataFrame\n",
    "        # Replace each category with its frequency\n",
    "        for col in X_transformed.columns:\n",
    "            X_transformed[col] = X_transformed[col].map(self.freq_dict_[col])\n",
    "        return X_transformed.values  # Return numpy array\n",
    "\n",
    "# Pipelines for frequency encoding and one hot encoding\n",
    "freq_enc_pipeline = Pipeline(steps=[('freq_enc', FrequencyEncoder())])\n",
    "one_hot_enc_pipeline = Pipeline(steps=[('one_hot_enc', OneHotEncoder(sparse_output=False))])\n",
    "\n",
    "# Function to compute ratio, perform logarithmic transformation, and apply Standard Scaling\n",
    "def compute_ratio_log_drop(df):\n",
    "    df_copy = df.copy()\n",
    "    df_copy[\"Log_Pesticide_per_hectar\"] = np.log1p(df[\"Pesticide\"] / df[\"Area\"])\n",
    "    df_copy[\"Log_Fertilizer_per_hectar\"] = np.log1p(df[\"Fertilizer\"] / df[\"Area\"])\n",
    "    df_copy = df_copy.drop(columns=[\"Pesticide\", \"Fertilizer\", \"Area\"])\n",
    "    return df_copy\n",
    "\n",
    "# Function to perform logarithmic transformation and apply Standard Scaling\n",
    "def log_drop(df):\n",
    "    df_copy = df.copy()\n",
    "    df_copy[\"Log_annual_rainfall\"] = np.log1p(df[\"Annual_Rainfall\"])\n",
    "    df_copy = df_copy.drop(columns=[\"Annual_Rainfall\"])\n",
    "    return df_copy\n",
    "\n",
    "ratio_pipeline = make_pipeline(FunctionTransformer(compute_ratio_log_drop), StandardScaler())\n",
    "\n",
    "log_pipiline = make_pipeline(FunctionTransformer(log_drop), StandardScaler())\n",
    "\n",
    "# Update the preprocessing pipeline\n",
    "preprocessing = ColumnTransformer([\n",
    "    (\"compute_ratio_log_and_scale\", ratio_pipeline, [\"Pesticide\", \"Area\", \"Fertilizer\"]),\n",
    "    (\"log_transform_and_scale\", log_pipiline, [\"Annual_Rainfall\"]),\n",
    "    (\"freq_enc\", freq_enc_pipeline, [\"Crop\", \"State\"]),\n",
    "    (\"one_hot_enc\", one_hot_enc_pipeline, [\"Season\"])\n",
    "])\n",
    "\n",
    "# Fit the transformer to the training data\n",
    "preprocessing.fit(X_train)\n",
    "\n",
    "# Transform the training data\n",
    "X_train_transformed = preprocessing.transform(X_train)\n",
    "\n",
    "# Get the feature names from the transformers\n",
    "transformed_feature_names = (\n",
    "    [\"Log_Pesticide_per_hectar_scaled\", \"Log_Fertilizer_per_hectar_scaled\", \"Log_annual_rainfall_scaled\"]  # Ratio and log columns\n",
    "    + [\"freq_enc_Crop\", \"freq_enc_State\"]  # Frequency encoded columns\n",
    "    + list(preprocessing.named_transformers_[\"one_hot_enc\"].named_steps[\"one_hot_enc\"].get_feature_names_out(input_features=[\"Season\"]))  # One hot encoded columns\n",
    ")\n",
    "\n",
    "# Create a DataFrame from the transformed training data\n",
    "X_train_transformed_df = pd.DataFrame(X_train_transformed, columns=transformed_feature_names)\n"
   ]
  },
  {
   "cell_type": "markdown",
   "metadata": {},
   "source": [
    "# RandSearch"
   ]
  },
  {
   "cell_type": "code",
   "execution_count": null,
   "metadata": {},
   "outputs": [],
   "source": [
    "from sklearn.model_selection import RandomizedSearchCV\n",
    "from sklearn.ensemble import RandomForestRegressor\n",
    "from scipy.stats import randint\n",
    "\n",
    "full_pipeline = Pipeline([(\"preprocessing\", preprocessing), (\"random_forest\", RandomForestRegressor(random_state=42))])\n",
    "\n",
    "\n",
    "param_dist = {\n",
    "    'random_forest__n_estimators': randint(low=100, high=400),\n",
    "    'random_forest__max_features': [1.0 , 'sqrt', 'log2'],\n",
    "    'random_forest__max_depth': [10, 50, 100, None],\n",
    "    'random_forest__min_samples_split': randint(low=2, high=10),\n",
    "    'random_forest__min_samples_leaf': randint(low=1, high=3),\n",
    "    'random_forest__bootstrap': [True, False]\n",
    "}\n",
    "\n",
    "rnd_search = RandomizedSearchCV(full_pipeline, param_distributions=param_dist, n_iter=60, cv=4, scoring='neg_root_mean_squared_error', random_state=1, n_jobs=-1, verbose=2)\n",
    "\n",
    "y_train_log = np.log1p(y_train)\n",
    "\n",
    "rnd_search.fit(X_train, y_train_log)\n",
    "\n",
    "final_model_3 = rnd_search.best_estimator_"
   ]
  },
  {
   "cell_type": "code",
   "execution_count": null,
   "metadata": {},
   "outputs": [],
   "source": [
    "feature_importance = final_model_3[\"random_forest\"].feature_importances_\n",
    "\n",
    "feature_importance.round(2)\n",
    "\n",
    "rnd_search.best_params_, feature_importance"
   ]
  },
  {
   "cell_type": "code",
   "execution_count": null,
   "metadata": {},
   "outputs": [],
   "source": [
    "from sklearn.model_selection import cross_val_score\n",
    "\n",
    "Rmse = -cross_val_score(final_model_3, X_train, y_train, scoring='neg_root_mean_squared_error', cv=5, n_jobs=-1)\n",
    "\n",
    "pd.Series(Rmse).describe()"
   ]
  },
  {
   "cell_type": "markdown",
   "metadata": {},
   "source": [
    "# Testing the model"
   ]
  },
  {
   "cell_type": "code",
   "execution_count": null,
   "metadata": {},
   "outputs": [],
   "source": [
    "from sklearn.metrics import mean_squared_error\n",
    "\n",
    "final_pred_log = final_model_3.predict(X_test)\n",
    "\n",
    "final_pred = np.expm1(final_pred_log)\n",
    "\n",
    "final_rmse = mean_squared_error(y_test, final_pred, squared=False)\n",
    "\n",
    "final_rmse\n",
    "# Result : 2.069048910404624\n",
    "\n"
   ]
  },
  {
   "cell_type": "code",
   "execution_count": null,
   "metadata": {},
   "outputs": [],
   "source": [
    "\n",
    "\n",
    "# Convert numpy arrays to pandas Series\n",
    "final_pred_series = pd.Series(final_pred, name=\"Predicted\", index=y_test.index)\n",
    "y_test_series = pd.Series(y_test, name=\"Actual\")\n",
    "\n",
    "# Create a new figure for the scatter plot of the predictions\n",
    "plt.figure(figsize=(10, 10))\n",
    "plt.scatter(y_test_series, final_pred_series, alpha=0.5)\n",
    "plt.plot([y_test_series.min(), y_test_series.max()], [y_test_series.min(), y_test_series.max()], 'k--', lw=2, label='Perfect Prediction')\n",
    "plt.xlabel(\"Actual Values\")\n",
    "plt.ylabel(\"Predicted Values\")\n",
    "plt.title(\"Predicted vs Actual Values\")\n",
    "plt.legend()\n",
    "plt.grid(True)\n",
    "plt.show()\n"
   ]
  },
  {
   "cell_type": "code",
   "execution_count": null,
   "metadata": {},
   "outputs": [],
   "source": [
    "import joblib\n",
    "\n",
    "joblib.dump(final_model_3, \"Model_vesrion_3_Log.pkl\")"
   ]
  },
  {
   "cell_type": "code",
   "execution_count": null,
   "metadata": {},
   "outputs": [],
   "source": [
    "df = pd.DataFrame({\"Actual_3\": y_test, \"Predicted_3\": final_pred})\n",
    "\n",
    "df[[\"Resid_3\", \"Resid_Norm_3\"]] = pd.DataFrame({\"Resid_3\": df[\"Actual_3\"] - df[\"Predicted_3\"], \"Resid_Norm_3\": (df[\"Predicted_3\"]/df[\"Actual_3\"])-1})\n",
    "\n",
    "\n",
    "df.to_csv(\"Predictions_Model_3.csv\")\n",
    "\n"
   ]
  },
  {
   "cell_type": "code",
   "execution_count": null,
   "metadata": {},
   "outputs": [],
   "source": [
    "predictions = final_model_3.predict(X)\n",
    "\n",
    "\n",
    "check = pd.DataFrame({\"Actual_3\": y,\"Predicted_3\": predictions})\n",
    "\n",
    "from sklearn.metrics import mean_absolute_error, mean_squared_error, r2_score, mean_absolute_percentage_error\n",
    "from math import sqrt\n",
    "\n",
    "\n",
    "def calculate_metrics_as_df(df, model_name):\n",
    "    actual_col = f'Actual_{model_name}'\n",
    "    predicted_col = f'Predicted_{model_name}'\n",
    "    actual = df[actual_col]\n",
    "    predicted = df[predicted_col]\n",
    "    mae = mean_absolute_error(actual, predicted)\n",
    "    mse = mean_squared_error(actual, predicted)\n",
    "    rmse = sqrt(mse)\n",
    "    r2 = r2_score(actual, predicted)\n",
    "    mape = mean_absolute_percentage_error(actual, predicted)\n",
    "    return pd.DataFrame({'Model': f'Model_{model_name}', 'MAE': [mae], 'MSE': [mse], 'RMSE': [rmse], 'R2': [r2], 'MAPE': [mape]})\n",
    "\n",
    "\n",
    "metrics = calculate_metrics_as_df(check, 3)\n",
    "\n",
    "metrics\n"
   ]
  }
 ],
 "metadata": {
  "kernelspec": {
   "display_name": "Python 3 (ipykernel)",
   "language": "python",
   "name": "python3"
  },
  "language_info": {
   "codemirror_mode": {
    "name": "ipython",
    "version": 3
   },
   "file_extension": ".py",
   "mimetype": "text/x-python",
   "name": "python",
   "nbconvert_exporter": "python",
   "pygments_lexer": "ipython3",
   "version": "3.11.6"
  }
 },
 "nbformat": 4,
 "nbformat_minor": 4
}
