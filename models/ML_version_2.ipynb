{
 "cells": [
  {
   "cell_type": "code",
   "execution_count": 1,
   "metadata": {
    "tags": []
   },
   "outputs": [],
   "source": [
    "import pandas as pd \n",
    "import numpy as np\n",
    "import matplotlib.pyplot as plt\n",
    "import seaborn as sns"
   ]
  },
  {
   "cell_type": "markdown",
   "metadata": {},
   "source": [
    "# Target will be logged and values of Yield lower than 0.2 will be dropped compared to model 1"
   ]
  },
  {
   "cell_type": "markdown",
   "metadata": {},
   "source": [
    "# Exploration and Cleaning"
   ]
  },
  {
   "cell_type": "code",
   "execution_count": 4,
   "metadata": {},
   "outputs": [],
   "source": [
    "# df.info()\n",
    "# df['Yield'].plot()"
   ]
  },
  {
   "cell_type": "code",
   "execution_count": 5,
   "metadata": {},
   "outputs": [],
   "source": [
    "\n",
    "# pd.set_option('display.float_format', '{:.4f}'.format)\n",
    "# df.describe(percentiles=[.25,.5,.75,.98])"
   ]
  },
  {
   "cell_type": "code",
   "execution_count": 6,
   "metadata": {},
   "outputs": [],
   "source": [
    "# corr = df.corr(numeric_only=True)\n",
    "# plt.figure(figsize=(10, 8))  # Adjust the figure size as per your preference\n",
    "# sns.heatmap(corr, annot=True, cmap='coolwarm', fmt='.2f')\n",
    "# plt.title('Correlation Matrix')\n",
    "# plt.show()\n"
   ]
  },
  {
   "cell_type": "code",
   "execution_count": 2,
   "metadata": {},
   "outputs": [],
   "source": [
    "def cleaning():\n",
    "    df = pd.read_csv('crop_yield.csv', header=0, index_col='ID')\n",
    "    df.drop(columns=['Crop_Year', 'Production'], inplace=True)\n",
    "    df = df[(df['Yield'] > 0.2) & (df['Yield'] <= 50)]\n",
    "    df = df[df[\"Crop\"] != 'Coconut']\n",
    "    return df"
   ]
  },
  {
   "cell_type": "markdown",
   "metadata": {},
   "source": [
    "# Split Test_Train"
   ]
  },
  {
   "cell_type": "code",
   "execution_count": 3,
   "metadata": {},
   "outputs": [
    {
     "name": "stdout",
     "output_type": "stream",
     "text": [
      "(18544, 8)\n"
     ]
    },
    {
     "data": {
      "text/plain": [
       "((14835, 7), (3709, 7), (14835,), (3709,))"
      ]
     },
     "execution_count": 3,
     "metadata": {},
     "output_type": "execute_result"
    }
   ],
   "source": [
    "from sklearn.model_selection import train_test_split\n",
    "\n",
    "df = cleaning()\n",
    "\n",
    "print(df.shape)\n",
    "\n",
    "# Define the feature matrix and target variable\n",
    "X = df.drop('Yield', axis=1)\n",
    "y = df['Yield']\n",
    "\n",
    "# Stratified split into training and test sets\n",
    "X_train, X_test, y_train, y_test = train_test_split(X, y, test_size=0.2, stratify=X['Crop'], random_state=42)\n",
    "\n",
    "\n",
    "X_train.shape, X_test.shape, y_train.shape, y_test.shape"
   ]
  },
  {
   "cell_type": "markdown",
   "metadata": {},
   "source": [
    "# Further Exploration and Feature Engineering"
   ]
  },
  {
   "cell_type": "code",
   "execution_count": 9,
   "metadata": {},
   "outputs": [],
   "source": [
    "# X_train.hist(bins = 100, figsize=(12, 8))"
   ]
  },
  {
   "cell_type": "code",
   "execution_count": 10,
   "metadata": {},
   "outputs": [],
   "source": [
    "# X.corr(numeric_only=True)"
   ]
  },
  {
   "cell_type": "code",
   "execution_count": 11,
   "metadata": {},
   "outputs": [],
   "source": [
    "# from pandas.plotting import scatter_matrix\n",
    "\n",
    "# a = ['Area', 'Annual_Rainfall', 'Fertilizer', 'Pesticide']\n",
    "\n",
    "# scatter_matrix(X[a], figsize=(12, 8))"
   ]
  },
  {
   "cell_type": "markdown",
   "metadata": {},
   "source": [
    "# Processing X_train"
   ]
  },
  {
   "cell_type": "code",
   "execution_count": 4,
   "metadata": {
    "tags": []
   },
   "outputs": [
    {
     "data": {
      "text/html": [
       "<div>\n",
       "<style scoped>\n",
       "    .dataframe tbody tr th:only-of-type {\n",
       "        vertical-align: middle;\n",
       "    }\n",
       "\n",
       "    .dataframe tbody tr th {\n",
       "        vertical-align: top;\n",
       "    }\n",
       "\n",
       "    .dataframe thead th {\n",
       "        text-align: right;\n",
       "    }\n",
       "</style>\n",
       "<table border=\"1\" class=\"dataframe\">\n",
       "  <thead>\n",
       "    <tr style=\"text-align: right;\">\n",
       "      <th></th>\n",
       "      <th>Log_Pesticide_per_hectar</th>\n",
       "      <th>Log_Fertilizer_per_hectar</th>\n",
       "      <th>log_Area</th>\n",
       "      <th>log_Annual_Rainfall</th>\n",
       "      <th>log_Fertilizer</th>\n",
       "      <th>log_Pesticide</th>\n",
       "      <th>freq_enc_Crop</th>\n",
       "      <th>freq_enc_State</th>\n",
       "      <th>Season_Autumn</th>\n",
       "      <th>Season_Kharif</th>\n",
       "      <th>Season_Rabi</th>\n",
       "      <th>Season_Summer</th>\n",
       "      <th>Season_Whole Year</th>\n",
       "      <th>Season_Winter</th>\n",
       "    </tr>\n",
       "    <tr>\n",
       "      <th>ID</th>\n",
       "      <th></th>\n",
       "      <th></th>\n",
       "      <th></th>\n",
       "      <th></th>\n",
       "      <th></th>\n",
       "      <th></th>\n",
       "      <th></th>\n",
       "      <th></th>\n",
       "      <th></th>\n",
       "      <th></th>\n",
       "      <th></th>\n",
       "      <th></th>\n",
       "      <th></th>\n",
       "      <th></th>\n",
       "    </tr>\n",
       "  </thead>\n",
       "  <tbody>\n",
       "    <tr>\n",
       "      <th>13030</th>\n",
       "      <td>0.484995</td>\n",
       "      <td>0.518049</td>\n",
       "      <td>-0.703754</td>\n",
       "      <td>0.418683</td>\n",
       "      <td>-0.668757</td>\n",
       "      <td>-0.646738</td>\n",
       "      <td>0.025480</td>\n",
       "      <td>0.055612</td>\n",
       "      <td>1.0</td>\n",
       "      <td>0.0</td>\n",
       "      <td>0.0</td>\n",
       "      <td>0.0</td>\n",
       "      <td>0.0</td>\n",
       "      <td>0.0</td>\n",
       "    </tr>\n",
       "    <tr>\n",
       "      <th>18457</th>\n",
       "      <td>-0.062468</td>\n",
       "      <td>-1.190459</td>\n",
       "      <td>-0.229613</td>\n",
       "      <td>0.995074</td>\n",
       "      <td>-0.310813</td>\n",
       "      <td>-0.219643</td>\n",
       "      <td>0.052444</td>\n",
       "      <td>0.021638</td>\n",
       "      <td>0.0</td>\n",
       "      <td>1.0</td>\n",
       "      <td>0.0</td>\n",
       "      <td>0.0</td>\n",
       "      <td>0.0</td>\n",
       "      <td>0.0</td>\n",
       "    </tr>\n",
       "    <tr>\n",
       "      <th>13135</th>\n",
       "      <td>-0.062468</td>\n",
       "      <td>0.276708</td>\n",
       "      <td>-0.105899</td>\n",
       "      <td>-0.460119</td>\n",
       "      <td>-0.082421</td>\n",
       "      <td>-0.096122</td>\n",
       "      <td>0.022582</td>\n",
       "      <td>0.040512</td>\n",
       "      <td>0.0</td>\n",
       "      <td>0.0</td>\n",
       "      <td>0.0</td>\n",
       "      <td>0.0</td>\n",
       "      <td>1.0</td>\n",
       "      <td>0.0</td>\n",
       "    </tr>\n",
       "    <tr>\n",
       "      <th>9841</th>\n",
       "      <td>-0.746797</td>\n",
       "      <td>-0.365082</td>\n",
       "      <td>0.363916</td>\n",
       "      <td>-0.334223</td>\n",
       "      <td>0.348032</td>\n",
       "      <td>0.304318</td>\n",
       "      <td>0.018739</td>\n",
       "      <td>0.043748</td>\n",
       "      <td>0.0</td>\n",
       "      <td>1.0</td>\n",
       "      <td>0.0</td>\n",
       "      <td>0.0</td>\n",
       "      <td>0.0</td>\n",
       "      <td>0.0</td>\n",
       "    </tr>\n",
       "    <tr>\n",
       "      <th>9821</th>\n",
       "      <td>-0.746797</td>\n",
       "      <td>-0.365082</td>\n",
       "      <td>0.745287</td>\n",
       "      <td>-0.098975</td>\n",
       "      <td>0.731252</td>\n",
       "      <td>0.685092</td>\n",
       "      <td>0.064442</td>\n",
       "      <td>0.032558</td>\n",
       "      <td>0.0</td>\n",
       "      <td>1.0</td>\n",
       "      <td>0.0</td>\n",
       "      <td>0.0</td>\n",
       "      <td>0.0</td>\n",
       "      <td>0.0</td>\n",
       "    </tr>\n",
       "  </tbody>\n",
       "</table>\n",
       "</div>"
      ],
      "text/plain": [
       "       Log_Pesticide_per_hectar  Log_Fertilizer_per_hectar  log_Area  \\\n",
       "ID                                                                     \n",
       "13030                  0.484995                   0.518049 -0.703754   \n",
       "18457                 -0.062468                  -1.190459 -0.229613   \n",
       "13135                 -0.062468                   0.276708 -0.105899   \n",
       "9841                  -0.746797                  -0.365082  0.363916   \n",
       "9821                  -0.746797                  -0.365082  0.745287   \n",
       "\n",
       "       log_Annual_Rainfall  log_Fertilizer  log_Pesticide  freq_enc_Crop  \\\n",
       "ID                                                                         \n",
       "13030             0.418683       -0.668757      -0.646738       0.025480   \n",
       "18457             0.995074       -0.310813      -0.219643       0.052444   \n",
       "13135            -0.460119       -0.082421      -0.096122       0.022582   \n",
       "9841             -0.334223        0.348032       0.304318       0.018739   \n",
       "9821             -0.098975        0.731252       0.685092       0.064442   \n",
       "\n",
       "       freq_enc_State  Season_Autumn  Season_Kharif  Season_Rabi  \\\n",
       "ID                                                                 \n",
       "13030        0.055612            1.0            0.0          0.0   \n",
       "18457        0.021638            0.0            1.0          0.0   \n",
       "13135        0.040512            0.0            0.0          0.0   \n",
       "9841         0.043748            0.0            1.0          0.0   \n",
       "9821         0.032558            0.0            1.0          0.0   \n",
       "\n",
       "       Season_Summer  Season_Whole Year  Season_Winter  \n",
       "ID                                                      \n",
       "13030            0.0                0.0            0.0  \n",
       "18457            0.0                0.0            0.0  \n",
       "13135            0.0                1.0            0.0  \n",
       "9841             0.0                0.0            0.0  \n",
       "9821             0.0                0.0            0.0  "
      ]
     },
     "execution_count": 4,
     "metadata": {},
     "output_type": "execute_result"
    }
   ],
   "source": [
    "# Necessary imports\n",
    "import pandas as pd\n",
    "import numpy as np\n",
    "from sklearn.base import BaseEstimator, TransformerMixin\n",
    "from sklearn.pipeline import Pipeline, make_pipeline\n",
    "from sklearn.preprocessing import OneHotEncoder, FunctionTransformer, StandardScaler\n",
    "from sklearn.compose import ColumnTransformer, make_column_selector\n",
    "from sklearn.utils.validation import check_is_fitted\n",
    "\n",
    "\n",
    "# Custom transformer for frequency encoding\n",
    "class FrequencyEncoder(BaseEstimator, TransformerMixin):\n",
    "    def __init__(self):\n",
    "        self.freq_dict_ = {}\n",
    "\n",
    "    def fit(self, X, y=None):\n",
    "        # Compute the frequency of each category in each column\n",
    "        X_df = pd.DataFrame(X, columns=[\"Crop\", \"State\"])  # Convert numpy array to DataFrame\n",
    "        self.freq_dict_ = {col: X_df[col].value_counts(normalize=True).to_dict() for col in X_df.columns}\n",
    "        return self\n",
    "\n",
    "    def transform(self, X, y=None):\n",
    "        check_is_fitted(self)\n",
    "        X_transformed = pd.DataFrame(X, columns=[\"Crop\", \"State\"]).copy()  # Convert numpy array to DataFrame\n",
    "        # Replace each category with its frequency\n",
    "        for col in X_transformed.columns:\n",
    "            X_transformed[col] = X_transformed[col].map(self.freq_dict_[col])\n",
    "        return X_transformed.values  # Return numpy array\n",
    "\n",
    "class LogTransformer(BaseEstimator, TransformerMixin):\n",
    "    def __init__(self, add_constant=1e-10):\n",
    "        self.add_constant = add_constant\n",
    "\n",
    "    def fit(self, X, y=None):\n",
    "        return self\n",
    "\n",
    "    def transform(self, X, y=None):\n",
    "        X_transformed = np.log(X + self.add_constant)\n",
    "        return X_transformed\n",
    "\n",
    "# Update column_ratio function to handle DataFrame inputs\n",
    "def column_ratio(df):\n",
    "    return (df.iloc[:, 0] / df.iloc[:, 1]).values.reshape(-1, 1)\n",
    "\n",
    "# Create a pipeline for calculating the ratio\n",
    "ratio_pipeline = make_pipeline(FunctionTransformer(column_ratio, validate=False), StandardScaler())\n",
    "\n",
    "# Create a pipeline for logarithm transformation and scaling\n",
    "log_pipeline = make_pipeline(LogTransformer(), StandardScaler())\n",
    "\n",
    "\n",
    "# Pipelines for frequency encoding and one hot encoding\n",
    "freq_enc_pipeline = Pipeline(steps=[('freq_enc', FrequencyEncoder())])\n",
    "one_hot_enc_pipeline = Pipeline(steps=[('one_hot_enc', OneHotEncoder(sparse_output=False))])\n",
    "\n",
    "\n",
    "# Update the preprocessing pipeline with the correct pipeline names\n",
    "preprocessing = ColumnTransformer([\n",
    "    (\"Pesticide_per_hectar\", ratio_pipeline, [\"Pesticide\", \"Area\"]),\n",
    "    (\"Fertilizer_per_hectar\", ratio_pipeline, [\"Fertilizer\",\"Area\"]),\n",
    "    (\"log\", log_pipeline, make_column_selector(dtype_exclude=object)),\n",
    "    (\"freq_enc\", freq_enc_pipeline, [\"Crop\", \"State\"]),\n",
    "    (\"one_hot_enc\", one_hot_enc_pipeline, [\"Season\"])\n",
    "])\n",
    "\n",
    "# Fit the transformer to the training data\n",
    "preprocessing.fit(X_train)\n",
    "\n",
    "# Get the feature names from the transformers\n",
    "transformed_feature_names = (\n",
    "    [\"Log_Pesticide_per_hectar\", \"Log_Fertilizer_per_hectar\"]  # Ratio columns\n",
    "    + [f\"log_{feature}\" for feature in make_column_selector(dtype_exclude=object)(X_train)]  # Log columns\n",
    "    + [\"freq_enc_Crop\", \"freq_enc_State\"]  # Frequency encoded columns\n",
    "    + list(preprocessing.named_transformers_[\"one_hot_enc\"].named_steps[\"one_hot_enc\"].get_feature_names_out(input_features=[\"Season\"]))  # One hot encoded columns\n",
    ")\n",
    "\n",
    "# Transform the training data\n",
    "data_transformed = preprocessing.transform(X_train)\n",
    "# Create a DataFrame from the transformed training data\n",
    "data_transformed_df = pd.DataFrame(data_transformed, columns=transformed_feature_names, index=X_train.index)\n",
    "\n",
    "# Display the first few rows of the transformed DataFrame\n",
    "data_transformed_df.head()\n"
   ]
  },
  {
   "cell_type": "markdown",
   "metadata": {},
   "source": [
    "# Model"
   ]
  },
  {
   "cell_type": "code",
   "execution_count": 13,
   "metadata": {},
   "outputs": [],
   "source": [
    "# from sklearn.linear_model import LinearRegression\n",
    "# from sklearn.pipeline import make_pipeline\n",
    "# from sklearn.metrics import mean_squared_error, r2_score \n",
    "\n",
    "# lin_reg = make_pipeline(preprocessing, LinearRegression())\n",
    "\n",
    "# lin_reg.fit(X_train, y_train)\n",
    "\n",
    "# predictions = lin_reg.predict(X_train)\n",
    "\n",
    "# lin_rmse = mean_squared_error(y_train, predictions, squared=False)\n",
    "\n",
    "# r2 = r2_score(y_train, predictions)\n",
    "\n",
    "# # Calculate adjusted R^2\n",
    "# n = len(y_train)  # Number of observations\n",
    "# p = X_train.shape[1]  # Number of predictors\n",
    "\n",
    "# adjusted_r2 = 1 - (1 - r2) * (n - 1) / (n - p - 1)\n",
    "\n",
    "\n",
    "# lin_rmse, r2\n"
   ]
  },
  {
   "cell_type": "code",
   "execution_count": 14,
   "metadata": {},
   "outputs": [],
   "source": [
    "# from sklearn.tree import DecisionTreeRegressor\n",
    "\n",
    "# Tree = make_pipeline(preprocessing, DecisionTreeRegressor())\n",
    "\n",
    "# Tree.fit(X_train, y_train)\n",
    "\n",
    "# prediction = Tree.predict(X_train)\n",
    "\n",
    "# lin_rmse = mean_squared_error(y_train, prediction, squared=False)\n",
    "\n",
    "# r2 = r2_score(y_train, prediction)\n",
    "\n",
    "# # Calculate adjusted R^2\n",
    "# n = len(y_train)  # Number of observations\n",
    "# p = X_train.shape[1]  # Number of predictors\n",
    "\n",
    "# adjusted_r2 = 1 - (1 - r2) * (n - 1) / (n - p - 1)\n",
    "\n",
    "\n",
    "# lin_rmse, r2\n",
    "\n"
   ]
  },
  {
   "cell_type": "code",
   "execution_count": 15,
   "metadata": {},
   "outputs": [],
   "source": [
    "# from sklearn.ensemble import RandomForestRegressor, VotingRegressor, HistGradientBoostingRegressor, GradientBoostingRegressor\n",
    "# from sklearn.neighbors import KNeighborsRegressor\n",
    "\n",
    "# rand_forest = make_pipeline(preprocessing, RandomForestRegressor(random_state=42))\n",
    "\n",
    "# K_naib = make_pipeline(preprocessing, KNeighborsRegressor(n_neighbors=15))\n",
    "\n",
    "# Gradient_boos_hist = make_pipeline(preprocessing, HistGradientBoostingRegressor(random_state=42))\n",
    "\n",
    "# Gradient_boost_normal = make_pipeline(preprocessing, GradientBoostingRegressor(random_state=42))\n"
   ]
  },
  {
   "cell_type": "markdown",
   "metadata": {},
   "source": [
    "# Cross-val predictions testing"
   ]
  },
  {
   "cell_type": "code",
   "execution_count": 16,
   "metadata": {},
   "outputs": [],
   "source": [
    "# from sklearn.model_selection import cross_val_score\n",
    "\n",
    "# Rmse = -cross_val_score(rand_forest, X_train, y_train, scoring='neg_root_mean_squared_error', cv=10)\n",
    "\n",
    "# pd.Series(Rmse).describe()"
   ]
  },
  {
   "cell_type": "markdown",
   "metadata": {},
   "source": [
    "# GridSearch"
   ]
  },
  {
   "cell_type": "code",
   "execution_count": 17,
   "metadata": {},
   "outputs": [],
   "source": [
    "# from sklearn.model_selection import GridSearchCV\n",
    "# from sklearn.ensemble import RandomForestRegressor\n",
    "\n",
    "# full_pipeline = Pipeline([(\"preprocessing\", preprocessing), (\"random_forest\", RandomForestRegressor(random_state=42))])\n",
    "\n",
    "# param_grid = {\n",
    "#     'random_forest__n_estimators': [400],\n",
    "#     'random_forest__max_features': ['log2', 'sqrt', 1],\n",
    "#     'random_forest__max_depth': [None],\n",
    "#     'random_forest__min_samples_split': [2],\n",
    "#     'random_forest__min_samples_leaf': [1],\n",
    "#     'random_forest__bootstrap': [True]\n",
    "# }\n",
    "\n",
    "# grid_search = GridSearchCV(full_pipeline, param_grid=param_grid, cv = 5, scoring='neg_root_mean_squared_error', n_jobs=-1,verbose=2)\n",
    "\n",
    "# grid_search.fit(X_train, y_train)\n",
    "\n",
    "# final_model = grid_search.best_estimator_\n"
   ]
  },
  {
   "cell_type": "markdown",
   "metadata": {},
   "source": [
    "# RandSearch"
   ]
  },
  {
   "cell_type": "code",
   "execution_count": 19,
   "metadata": {},
   "outputs": [
    {
     "name": "stdout",
     "output_type": "stream",
     "text": [
      "Fitting 3 folds for each of 50 candidates, totalling 150 fits\n",
      "[CV] END random_forest__bootstrap=False, random_forest__max_depth=10, random_forest__max_features=log2, random_forest__min_samples_leaf=2, random_forest__min_samples_split=4, random_forest__n_estimators=376; total time=   3.7s\n",
      "[CV] END random_forest__bootstrap=False, random_forest__max_depth=10, random_forest__max_features=log2, random_forest__min_samples_leaf=2, random_forest__min_samples_split=4, random_forest__n_estimators=376; total time=   3.7s\n",
      "[CV] END random_forest__bootstrap=False, random_forest__max_depth=10, random_forest__max_features=log2, random_forest__min_samples_leaf=2, random_forest__min_samples_split=4, random_forest__n_estimators=376; total time=   3.8s\n",
      "[CV] END random_forest__bootstrap=True, random_forest__max_depth=50, random_forest__max_features=log2, random_forest__min_samples_leaf=1, random_forest__min_samples_split=5, random_forest__n_estimators=352; total time=   3.8s\n",
      "[CV] END random_forest__bootstrap=True, random_forest__max_depth=10, random_forest__max_features=sqrt, random_forest__min_samples_leaf=1, random_forest__min_samples_split=4, random_forest__n_estimators=168; total time=   1.1s\n",
      "[CV] END random_forest__bootstrap=True, random_forest__max_depth=10, random_forest__max_features=sqrt, random_forest__min_samples_leaf=1, random_forest__min_samples_split=4, random_forest__n_estimators=168; total time=   1.2s\n",
      "[CV] END random_forest__bootstrap=True, random_forest__max_depth=10, random_forest__max_features=sqrt, random_forest__min_samples_leaf=1, random_forest__min_samples_split=4, random_forest__n_estimators=168; total time=   1.2s\n",
      "[CV] END random_forest__bootstrap=True, random_forest__max_depth=50, random_forest__max_features=log2, random_forest__min_samples_leaf=1, random_forest__min_samples_split=5, random_forest__n_estimators=352; total time=   3.8s\n",
      "[CV] END random_forest__bootstrap=True, random_forest__max_depth=50, random_forest__max_features=log2, random_forest__min_samples_leaf=1, random_forest__min_samples_split=5, random_forest__n_estimators=352; total time=   3.8s\n",
      "[CV] END random_forest__bootstrap=False, random_forest__max_depth=None, random_forest__max_features=sqrt, random_forest__min_samples_leaf=2, random_forest__min_samples_split=9, random_forest__n_estimators=186; total time=   2.7s\n",
      "[CV] END random_forest__bootstrap=False, random_forest__max_depth=None, random_forest__max_features=sqrt, random_forest__min_samples_leaf=2, random_forest__min_samples_split=9, random_forest__n_estimators=186; total time=   2.9s\n",
      "[CV] END random_forest__bootstrap=False, random_forest__max_depth=50, random_forest__max_features=sqrt, random_forest__min_samples_leaf=2, random_forest__min_samples_split=9, random_forest__n_estimators=122; total time=   1.8s\n",
      "[CV] END random_forest__bootstrap=False, random_forest__max_depth=50, random_forest__max_features=sqrt, random_forest__min_samples_leaf=2, random_forest__min_samples_split=9, random_forest__n_estimators=122; total time=   1.9s\n",
      "[CV] END random_forest__bootstrap=False, random_forest__max_depth=None, random_forest__max_features=sqrt, random_forest__min_samples_leaf=2, random_forest__min_samples_split=9, random_forest__n_estimators=186; total time=   2.7s\n",
      "[CV] END random_forest__bootstrap=False, random_forest__max_depth=50, random_forest__max_features=sqrt, random_forest__min_samples_leaf=2, random_forest__min_samples_split=9, random_forest__n_estimators=122; total time=   1.8s\n",
      "[CV] END random_forest__bootstrap=False, random_forest__max_depth=None, random_forest__max_features=1.0, random_forest__min_samples_leaf=1, random_forest__min_samples_split=3, random_forest__n_estimators=171; total time=  11.1s\n",
      "[CV] END random_forest__bootstrap=False, random_forest__max_depth=None, random_forest__max_features=1.0, random_forest__min_samples_leaf=1, random_forest__min_samples_split=3, random_forest__n_estimators=171; total time=  11.7s\n",
      "[CV] END random_forest__bootstrap=False, random_forest__max_depth=None, random_forest__max_features=1.0, random_forest__min_samples_leaf=1, random_forest__min_samples_split=3, random_forest__n_estimators=171; total time=  11.8s\n",
      "[CV] END random_forest__bootstrap=True, random_forest__max_depth=50, random_forest__max_features=log2, random_forest__min_samples_leaf=2, random_forest__min_samples_split=2, random_forest__n_estimators=130; total time=   1.6s\n",
      "[CV] END random_forest__bootstrap=True, random_forest__max_depth=50, random_forest__max_features=log2, random_forest__min_samples_leaf=2, random_forest__min_samples_split=2, random_forest__n_estimators=130; total time=   1.3s\n",
      "[CV] END random_forest__bootstrap=True, random_forest__max_depth=50, random_forest__max_features=log2, random_forest__min_samples_leaf=2, random_forest__min_samples_split=2, random_forest__n_estimators=130; total time=   1.3s\n",
      "[CV] END random_forest__bootstrap=False, random_forest__max_depth=None, random_forest__max_features=log2, random_forest__min_samples_leaf=2, random_forest__min_samples_split=3, random_forest__n_estimators=103; total time=   1.7s\n",
      "[CV] END random_forest__bootstrap=True, random_forest__max_depth=10, random_forest__max_features=sqrt, random_forest__min_samples_leaf=2, random_forest__min_samples_split=6, random_forest__n_estimators=126; total time=   0.9s\n",
      "[CV] END random_forest__bootstrap=False, random_forest__max_depth=None, random_forest__max_features=log2, random_forest__min_samples_leaf=2, random_forest__min_samples_split=3, random_forest__n_estimators=103; total time=   1.7s\n",
      "[CV] END random_forest__bootstrap=False, random_forest__max_depth=None, random_forest__max_features=log2, random_forest__min_samples_leaf=2, random_forest__min_samples_split=3, random_forest__n_estimators=103; total time=   1.7s\n",
      "[CV] END random_forest__bootstrap=True, random_forest__max_depth=10, random_forest__max_features=sqrt, random_forest__min_samples_leaf=2, random_forest__min_samples_split=6, random_forest__n_estimators=126; total time=   1.0s\n",
      "[CV] END random_forest__bootstrap=True, random_forest__max_depth=10, random_forest__max_features=sqrt, random_forest__min_samples_leaf=2, random_forest__min_samples_split=6, random_forest__n_estimators=126; total time=   0.9s\n",
      "[CV] END random_forest__bootstrap=True, random_forest__max_depth=10, random_forest__max_features=sqrt, random_forest__min_samples_leaf=2, random_forest__min_samples_split=3, random_forest__n_estimators=115; total time=   0.8s\n",
      "[CV] END random_forest__bootstrap=True, random_forest__max_depth=10, random_forest__max_features=sqrt, random_forest__min_samples_leaf=2, random_forest__min_samples_split=3, random_forest__n_estimators=115; total time=   0.9s\n",
      "[CV] END random_forest__bootstrap=True, random_forest__max_depth=10, random_forest__max_features=sqrt, random_forest__min_samples_leaf=2, random_forest__min_samples_split=3, random_forest__n_estimators=115; total time=   0.8s\n",
      "[CV] END random_forest__bootstrap=True, random_forest__max_depth=10, random_forest__max_features=sqrt, random_forest__min_samples_leaf=2, random_forest__min_samples_split=4, random_forest__n_estimators=382; total time=   2.7s\n",
      "[CV] END random_forest__bootstrap=False, random_forest__max_depth=10, random_forest__max_features=log2, random_forest__min_samples_leaf=2, random_forest__min_samples_split=5, random_forest__n_estimators=226; total time=   2.2s\n",
      "[CV] END random_forest__bootstrap=True, random_forest__max_depth=10, random_forest__max_features=sqrt, random_forest__min_samples_leaf=2, random_forest__min_samples_split=4, random_forest__n_estimators=382; total time=   2.6s\n",
      "[CV] END random_forest__bootstrap=True, random_forest__max_depth=10, random_forest__max_features=sqrt, random_forest__min_samples_leaf=2, random_forest__min_samples_split=4, random_forest__n_estimators=382; total time=   2.8s\n",
      "[CV] END random_forest__bootstrap=False, random_forest__max_depth=None, random_forest__max_features=1.0, random_forest__min_samples_leaf=1, random_forest__min_samples_split=9, random_forest__n_estimators=303; total time=  18.2s\n",
      "[CV] END random_forest__bootstrap=False, random_forest__max_depth=None, random_forest__max_features=1.0, random_forest__min_samples_leaf=1, random_forest__min_samples_split=9, random_forest__n_estimators=303; total time=  18.5s\n",
      "[CV] END random_forest__bootstrap=False, random_forest__max_depth=None, random_forest__max_features=1.0, random_forest__min_samples_leaf=1, random_forest__min_samples_split=9, random_forest__n_estimators=303; total time=  19.1s\n",
      "[CV] END random_forest__bootstrap=False, random_forest__max_depth=10, random_forest__max_features=log2, random_forest__min_samples_leaf=2, random_forest__min_samples_split=5, random_forest__n_estimators=226; total time=   2.2s\n",
      "[CV] END random_forest__bootstrap=False, random_forest__max_depth=10, random_forest__max_features=log2, random_forest__min_samples_leaf=2, random_forest__min_samples_split=5, random_forest__n_estimators=226; total time=   2.3s\n",
      "[CV] END random_forest__bootstrap=False, random_forest__max_depth=None, random_forest__max_features=sqrt, random_forest__min_samples_leaf=2, random_forest__min_samples_split=5, random_forest__n_estimators=174; total time=   2.6s\n",
      "[CV] END random_forest__bootstrap=False, random_forest__max_depth=None, random_forest__max_features=sqrt, random_forest__min_samples_leaf=2, random_forest__min_samples_split=5, random_forest__n_estimators=174; total time=   2.6s\n",
      "[CV] END random_forest__bootstrap=False, random_forest__max_depth=None, random_forest__max_features=sqrt, random_forest__min_samples_leaf=2, random_forest__min_samples_split=5, random_forest__n_estimators=174; total time=   2.6s\n",
      "[CV] END random_forest__bootstrap=False, random_forest__max_depth=50, random_forest__max_features=1.0, random_forest__min_samples_leaf=2, random_forest__min_samples_split=7, random_forest__n_estimators=183; total time=  10.8s\n",
      "[CV] END random_forest__bootstrap=True, random_forest__max_depth=10, random_forest__max_features=1.0, random_forest__min_samples_leaf=1, random_forest__min_samples_split=4, random_forest__n_estimators=379; total time=  10.3s\n",
      "[CV] END random_forest__bootstrap=True, random_forest__max_depth=10, random_forest__max_features=1.0, random_forest__min_samples_leaf=1, random_forest__min_samples_split=4, random_forest__n_estimators=379; total time=  10.2s\n",
      "[CV] END random_forest__bootstrap=False, random_forest__max_depth=50, random_forest__max_features=1.0, random_forest__min_samples_leaf=2, random_forest__min_samples_split=7, random_forest__n_estimators=183; total time=  11.1s\n",
      "[CV] END random_forest__bootstrap=False, random_forest__max_depth=50, random_forest__max_features=1.0, random_forest__min_samples_leaf=2, random_forest__min_samples_split=7, random_forest__n_estimators=183; total time=  11.9s\n",
      "[CV] END random_forest__bootstrap=True, random_forest__max_depth=10, random_forest__max_features=1.0, random_forest__min_samples_leaf=1, random_forest__min_samples_split=4, random_forest__n_estimators=379; total time=  10.1s\n",
      "[CV] END random_forest__bootstrap=False, random_forest__max_depth=50, random_forest__max_features=1.0, random_forest__min_samples_leaf=1, random_forest__min_samples_split=3, random_forest__n_estimators=364; total time=  24.0s\n",
      "[CV] END random_forest__bootstrap=False, random_forest__max_depth=50, random_forest__max_features=1.0, random_forest__min_samples_leaf=1, random_forest__min_samples_split=3, random_forest__n_estimators=364; total time=  24.2s\n",
      "[CV] END random_forest__bootstrap=False, random_forest__max_depth=50, random_forest__max_features=1.0, random_forest__min_samples_leaf=1, random_forest__min_samples_split=3, random_forest__n_estimators=364; total time=  24.9s\n",
      "[CV] END random_forest__bootstrap=False, random_forest__max_depth=50, random_forest__max_features=sqrt, random_forest__min_samples_leaf=2, random_forest__min_samples_split=2, random_forest__n_estimators=353; total time=   5.5s\n",
      "[CV] END random_forest__bootstrap=False, random_forest__max_depth=50, random_forest__max_features=sqrt, random_forest__min_samples_leaf=2, random_forest__min_samples_split=2, random_forest__n_estimators=353; total time=   5.6s\n",
      "[CV] END random_forest__bootstrap=False, random_forest__max_depth=50, random_forest__max_features=sqrt, random_forest__min_samples_leaf=2, random_forest__min_samples_split=2, random_forest__n_estimators=353; total time=   5.5s\n",
      "[CV] END random_forest__bootstrap=False, random_forest__max_depth=100, random_forest__max_features=1.0, random_forest__min_samples_leaf=2, random_forest__min_samples_split=8, random_forest__n_estimators=102; total time=   6.0s\n",
      "[CV] END random_forest__bootstrap=True, random_forest__max_depth=None, random_forest__max_features=sqrt, random_forest__min_samples_leaf=2, random_forest__min_samples_split=9, random_forest__n_estimators=177; total time=   1.8s\n",
      "[CV] END random_forest__bootstrap=True, random_forest__max_depth=None, random_forest__max_features=sqrt, random_forest__min_samples_leaf=2, random_forest__min_samples_split=9, random_forest__n_estimators=177; total time=   1.8s\n",
      "[CV] END random_forest__bootstrap=True, random_forest__max_depth=None, random_forest__max_features=sqrt, random_forest__min_samples_leaf=2, random_forest__min_samples_split=9, random_forest__n_estimators=177; total time=   1.8s\n",
      "[CV] END random_forest__bootstrap=True, random_forest__max_depth=100, random_forest__max_features=1.0, random_forest__min_samples_leaf=1, random_forest__min_samples_split=9, random_forest__n_estimators=283; total time=  10.7s\n",
      "[CV] END random_forest__bootstrap=True, random_forest__max_depth=100, random_forest__max_features=1.0, random_forest__min_samples_leaf=1, random_forest__min_samples_split=9, random_forest__n_estimators=283; total time=  10.9s\n",
      "[CV] END random_forest__bootstrap=True, random_forest__max_depth=100, random_forest__max_features=1.0, random_forest__min_samples_leaf=1, random_forest__min_samples_split=9, random_forest__n_estimators=283; total time=  11.0s\n",
      "[CV] END random_forest__bootstrap=False, random_forest__max_depth=100, random_forest__max_features=1.0, random_forest__min_samples_leaf=2, random_forest__min_samples_split=8, random_forest__n_estimators=102; total time=   6.5s\n",
      "[CV] END random_forest__bootstrap=True, random_forest__max_depth=None, random_forest__max_features=sqrt, random_forest__min_samples_leaf=1, random_forest__min_samples_split=3, random_forest__n_estimators=340; total time=   4.0s\n",
      "[CV] END random_forest__bootstrap=True, random_forest__max_depth=None, random_forest__max_features=sqrt, random_forest__min_samples_leaf=1, random_forest__min_samples_split=3, random_forest__n_estimators=340; total time=   3.9s\n",
      "[CV] END random_forest__bootstrap=False, random_forest__max_depth=100, random_forest__max_features=1.0, random_forest__min_samples_leaf=2, random_forest__min_samples_split=8, random_forest__n_estimators=102; total time=   6.3s\n",
      "[CV] END random_forest__bootstrap=True, random_forest__max_depth=None, random_forest__max_features=1.0, random_forest__min_samples_leaf=2, random_forest__min_samples_split=6, random_forest__n_estimators=130; total time=   5.3s\n",
      "[CV] END random_forest__bootstrap=True, random_forest__max_depth=None, random_forest__max_features=1.0, random_forest__min_samples_leaf=2, random_forest__min_samples_split=6, random_forest__n_estimators=130; total time=   5.1s\n",
      "[CV] END random_forest__bootstrap=True, random_forest__max_depth=None, random_forest__max_features=1.0, random_forest__min_samples_leaf=2, random_forest__min_samples_split=6, random_forest__n_estimators=130; total time=   5.1s\n",
      "[CV] END random_forest__bootstrap=True, random_forest__max_depth=None, random_forest__max_features=sqrt, random_forest__min_samples_leaf=1, random_forest__min_samples_split=3, random_forest__n_estimators=340; total time=   3.9s\n",
      "[CV] END random_forest__bootstrap=True, random_forest__max_depth=10, random_forest__max_features=sqrt, random_forest__min_samples_leaf=1, random_forest__min_samples_split=6, random_forest__n_estimators=252; total time=   1.8s\n",
      "[CV] END random_forest__bootstrap=True, random_forest__max_depth=10, random_forest__max_features=sqrt, random_forest__min_samples_leaf=1, random_forest__min_samples_split=6, random_forest__n_estimators=252; total time=   1.8s\n",
      "[CV] END random_forest__bootstrap=True, random_forest__max_depth=50, random_forest__max_features=sqrt, random_forest__min_samples_leaf=1, random_forest__min_samples_split=4, random_forest__n_estimators=248; total time=   2.7s\n",
      "[CV] END random_forest__bootstrap=True, random_forest__max_depth=50, random_forest__max_features=sqrt, random_forest__min_samples_leaf=1, random_forest__min_samples_split=4, random_forest__n_estimators=248; total time=   2.8s\n",
      "[CV] END random_forest__bootstrap=True, random_forest__max_depth=10, random_forest__max_features=sqrt, random_forest__min_samples_leaf=1, random_forest__min_samples_split=6, random_forest__n_estimators=252; total time=   1.8s\n",
      "[CV] END random_forest__bootstrap=True, random_forest__max_depth=50, random_forest__max_features=sqrt, random_forest__min_samples_leaf=1, random_forest__min_samples_split=4, random_forest__n_estimators=248; total time=   2.9s\n",
      "[CV] END random_forest__bootstrap=True, random_forest__max_depth=None, random_forest__max_features=sqrt, random_forest__min_samples_leaf=1, random_forest__min_samples_split=6, random_forest__n_estimators=320; total time=   3.4s\n",
      "[CV] END random_forest__bootstrap=True, random_forest__max_depth=None, random_forest__max_features=sqrt, random_forest__min_samples_leaf=1, random_forest__min_samples_split=6, random_forest__n_estimators=320; total time=   3.4s\n",
      "[CV] END random_forest__bootstrap=True, random_forest__max_depth=None, random_forest__max_features=sqrt, random_forest__min_samples_leaf=1, random_forest__min_samples_split=6, random_forest__n_estimators=320; total time=   3.8s\n",
      "[CV] END random_forest__bootstrap=False, random_forest__max_depth=100, random_forest__max_features=log2, random_forest__min_samples_leaf=1, random_forest__min_samples_split=2, random_forest__n_estimators=298; total time=   5.6s\n"
     ]
    },
    {
     "name": "stderr",
     "output_type": "stream",
     "text": [
      "/opt/homebrew/anaconda3/lib/python3.11/site-packages/joblib/externals/loky/process_executor.py:700: UserWarning: A worker stopped while some jobs were given to the executor. This can be caused by a too short worker timeout or by a memory leak.\n",
      "  warnings.warn(\n"
     ]
    },
    {
     "name": "stdout",
     "output_type": "stream",
     "text": [
      "[CV] END random_forest__bootstrap=False, random_forest__max_depth=100, random_forest__max_features=log2, random_forest__min_samples_leaf=1, random_forest__min_samples_split=2, random_forest__n_estimators=298; total time=   5.8s\n",
      "[CV] END random_forest__bootstrap=False, random_forest__max_depth=100, random_forest__max_features=log2, random_forest__min_samples_leaf=1, random_forest__min_samples_split=2, random_forest__n_estimators=298; total time=   6.0s\n",
      "[CV] END random_forest__bootstrap=True, random_forest__max_depth=None, random_forest__max_features=1.0, random_forest__min_samples_leaf=1, random_forest__min_samples_split=9, random_forest__n_estimators=270; total time=  11.3s\n",
      "[CV] END random_forest__bootstrap=True, random_forest__max_depth=100, random_forest__max_features=1.0, random_forest__min_samples_leaf=2, random_forest__min_samples_split=4, random_forest__n_estimators=379; total time=  15.5s\n",
      "[CV] END random_forest__bootstrap=True, random_forest__max_depth=100, random_forest__max_features=1.0, random_forest__min_samples_leaf=2, random_forest__min_samples_split=4, random_forest__n_estimators=379; total time=  15.6s\n",
      "[CV] END random_forest__bootstrap=True, random_forest__max_depth=100, random_forest__max_features=1.0, random_forest__min_samples_leaf=1, random_forest__min_samples_split=7, random_forest__n_estimators=214; total time=   9.2s\n",
      "[CV] END random_forest__bootstrap=True, random_forest__max_depth=100, random_forest__max_features=1.0, random_forest__min_samples_leaf=2, random_forest__min_samples_split=4, random_forest__n_estimators=379; total time=  16.3s\n",
      "[CV] END random_forest__bootstrap=True, random_forest__max_depth=None, random_forest__max_features=1.0, random_forest__min_samples_leaf=1, random_forest__min_samples_split=9, random_forest__n_estimators=270; total time=  11.0s\n",
      "[CV] END random_forest__bootstrap=True, random_forest__max_depth=None, random_forest__max_features=1.0, random_forest__min_samples_leaf=1, random_forest__min_samples_split=9, random_forest__n_estimators=270; total time=  11.4s\n",
      "[CV] END random_forest__bootstrap=False, random_forest__max_depth=10, random_forest__max_features=sqrt, random_forest__min_samples_leaf=2, random_forest__min_samples_split=9, random_forest__n_estimators=196; total time=   2.0s\n",
      "[CV] END random_forest__bootstrap=False, random_forest__max_depth=10, random_forest__max_features=sqrt, random_forest__min_samples_leaf=2, random_forest__min_samples_split=9, random_forest__n_estimators=196; total time=   2.0s\n",
      "[CV] END random_forest__bootstrap=False, random_forest__max_depth=10, random_forest__max_features=sqrt, random_forest__min_samples_leaf=2, random_forest__min_samples_split=9, random_forest__n_estimators=196; total time=   1.9s\n",
      "[CV] END random_forest__bootstrap=True, random_forest__max_depth=10, random_forest__max_features=log2, random_forest__min_samples_leaf=2, random_forest__min_samples_split=2, random_forest__n_estimators=124; total time=   1.1s\n",
      "[CV] END random_forest__bootstrap=True, random_forest__max_depth=10, random_forest__max_features=log2, random_forest__min_samples_leaf=2, random_forest__min_samples_split=2, random_forest__n_estimators=124; total time=   0.9s\n",
      "[CV] END random_forest__bootstrap=True, random_forest__max_depth=100, random_forest__max_features=1.0, random_forest__min_samples_leaf=1, random_forest__min_samples_split=7, random_forest__n_estimators=214; total time=   8.8s\n",
      "[CV] END random_forest__bootstrap=True, random_forest__max_depth=100, random_forest__max_features=1.0, random_forest__min_samples_leaf=1, random_forest__min_samples_split=7, random_forest__n_estimators=214; total time=   8.9s\n",
      "[CV] END random_forest__bootstrap=True, random_forest__max_depth=10, random_forest__max_features=log2, random_forest__min_samples_leaf=2, random_forest__min_samples_split=2, random_forest__n_estimators=124; total time=   1.0s\n",
      "[CV] END random_forest__bootstrap=False, random_forest__max_depth=None, random_forest__max_features=sqrt, random_forest__min_samples_leaf=2, random_forest__min_samples_split=8, random_forest__n_estimators=241; total time=   3.6s\n",
      "[CV] END random_forest__bootstrap=False, random_forest__max_depth=None, random_forest__max_features=sqrt, random_forest__min_samples_leaf=2, random_forest__min_samples_split=8, random_forest__n_estimators=241; total time=   3.7s\n",
      "[CV] END random_forest__bootstrap=False, random_forest__max_depth=None, random_forest__max_features=sqrt, random_forest__min_samples_leaf=2, random_forest__min_samples_split=8, random_forest__n_estimators=241; total time=   3.6s\n",
      "[CV] END random_forest__bootstrap=False, random_forest__max_depth=10, random_forest__max_features=sqrt, random_forest__min_samples_leaf=2, random_forest__min_samples_split=3, random_forest__n_estimators=145; total time=   1.6s\n",
      "[CV] END random_forest__bootstrap=False, random_forest__max_depth=10, random_forest__max_features=sqrt, random_forest__min_samples_leaf=2, random_forest__min_samples_split=3, random_forest__n_estimators=145; total time=   1.5s\n",
      "[CV] END random_forest__bootstrap=False, random_forest__max_depth=10, random_forest__max_features=sqrt, random_forest__min_samples_leaf=2, random_forest__min_samples_split=3, random_forest__n_estimators=145; total time=   1.5s\n",
      "[CV] END random_forest__bootstrap=False, random_forest__max_depth=50, random_forest__max_features=log2, random_forest__min_samples_leaf=2, random_forest__min_samples_split=7, random_forest__n_estimators=348; total time=   5.1s\n",
      "[CV] END random_forest__bootstrap=False, random_forest__max_depth=50, random_forest__max_features=log2, random_forest__min_samples_leaf=2, random_forest__min_samples_split=7, random_forest__n_estimators=348; total time=   5.4s\n",
      "[CV] END random_forest__bootstrap=False, random_forest__max_depth=50, random_forest__max_features=log2, random_forest__min_samples_leaf=2, random_forest__min_samples_split=7, random_forest__n_estimators=348; total time=   5.4s\n",
      "[CV] END random_forest__bootstrap=False, random_forest__max_depth=None, random_forest__max_features=sqrt, random_forest__min_samples_leaf=2, random_forest__min_samples_split=3, random_forest__n_estimators=230; total time=   3.5s\n",
      "[CV] END random_forest__bootstrap=False, random_forest__max_depth=10, random_forest__max_features=1.0, random_forest__min_samples_leaf=1, random_forest__min_samples_split=7, random_forest__n_estimators=163; total time=   6.5s\n",
      "[CV] END random_forest__bootstrap=False, random_forest__max_depth=None, random_forest__max_features=sqrt, random_forest__min_samples_leaf=2, random_forest__min_samples_split=3, random_forest__n_estimators=230; total time=   3.6s\n",
      "[CV] END random_forest__bootstrap=False, random_forest__max_depth=10, random_forest__max_features=1.0, random_forest__min_samples_leaf=1, random_forest__min_samples_split=7, random_forest__n_estimators=163; total time=   6.7s\n",
      "[CV] END random_forest__bootstrap=False, random_forest__max_depth=None, random_forest__max_features=sqrt, random_forest__min_samples_leaf=2, random_forest__min_samples_split=3, random_forest__n_estimators=230; total time=   3.7s\n",
      "[CV] END random_forest__bootstrap=False, random_forest__max_depth=10, random_forest__max_features=1.0, random_forest__min_samples_leaf=1, random_forest__min_samples_split=7, random_forest__n_estimators=163; total time=   6.5s\n",
      "[CV] END random_forest__bootstrap=True, random_forest__max_depth=10, random_forest__max_features=sqrt, random_forest__min_samples_leaf=2, random_forest__min_samples_split=2, random_forest__n_estimators=108; total time=   0.7s\n",
      "[CV] END random_forest__bootstrap=True, random_forest__max_depth=10, random_forest__max_features=sqrt, random_forest__min_samples_leaf=2, random_forest__min_samples_split=2, random_forest__n_estimators=108; total time=   0.7s\n",
      "[CV] END random_forest__bootstrap=False, random_forest__max_depth=50, random_forest__max_features=1.0, random_forest__min_samples_leaf=1, random_forest__min_samples_split=2, random_forest__n_estimators=283; total time=  19.9s\n",
      "[CV] END random_forest__bootstrap=True, random_forest__max_depth=10, random_forest__max_features=sqrt, random_forest__min_samples_leaf=2, random_forest__min_samples_split=2, random_forest__n_estimators=108; total time=   0.8s\n",
      "[CV] END random_forest__bootstrap=True, random_forest__max_depth=None, random_forest__max_features=log2, random_forest__min_samples_leaf=2, random_forest__min_samples_split=6, random_forest__n_estimators=322; total time=   3.4s\n",
      "[CV] END random_forest__bootstrap=True, random_forest__max_depth=None, random_forest__max_features=log2, random_forest__min_samples_leaf=2, random_forest__min_samples_split=6, random_forest__n_estimators=322; total time=   3.5s\n",
      "[CV] END random_forest__bootstrap=True, random_forest__max_depth=None, random_forest__max_features=log2, random_forest__min_samples_leaf=2, random_forest__min_samples_split=6, random_forest__n_estimators=322; total time=   3.5s\n",
      "[CV] END random_forest__bootstrap=True, random_forest__max_depth=50, random_forest__max_features=log2, random_forest__min_samples_leaf=2, random_forest__min_samples_split=3, random_forest__n_estimators=208; total time=   2.3s\n",
      "[CV] END random_forest__bootstrap=False, random_forest__max_depth=10, random_forest__max_features=sqrt, random_forest__min_samples_leaf=1, random_forest__min_samples_split=6, random_forest__n_estimators=144; total time=   1.4s\n",
      "[CV] END random_forest__bootstrap=False, random_forest__max_depth=10, random_forest__max_features=sqrt, random_forest__min_samples_leaf=1, random_forest__min_samples_split=6, random_forest__n_estimators=144; total time=   1.4s\n",
      "[CV] END random_forest__bootstrap=True, random_forest__max_depth=50, random_forest__max_features=log2, random_forest__min_samples_leaf=2, random_forest__min_samples_split=3, random_forest__n_estimators=208; total time=   2.1s\n",
      "[CV] END random_forest__bootstrap=True, random_forest__max_depth=50, random_forest__max_features=log2, random_forest__min_samples_leaf=2, random_forest__min_samples_split=3, random_forest__n_estimators=208; total time=   2.2s\n",
      "[CV] END random_forest__bootstrap=False, random_forest__max_depth=10, random_forest__max_features=sqrt, random_forest__min_samples_leaf=1, random_forest__min_samples_split=6, random_forest__n_estimators=144; total time=   1.5s\n",
      "[CV] END random_forest__bootstrap=False, random_forest__max_depth=50, random_forest__max_features=1.0, random_forest__min_samples_leaf=1, random_forest__min_samples_split=2, random_forest__n_estimators=283; total time=  20.1s\n",
      "[CV] END random_forest__bootstrap=False, random_forest__max_depth=50, random_forest__max_features=1.0, random_forest__min_samples_leaf=1, random_forest__min_samples_split=2, random_forest__n_estimators=283; total time=  19.9s\n",
      "[CV] END random_forest__bootstrap=True, random_forest__max_depth=None, random_forest__max_features=log2, random_forest__min_samples_leaf=2, random_forest__min_samples_split=5, random_forest__n_estimators=153; total time=   1.7s\n",
      "[CV] END random_forest__bootstrap=True, random_forest__max_depth=None, random_forest__max_features=log2, random_forest__min_samples_leaf=2, random_forest__min_samples_split=5, random_forest__n_estimators=153; total time=   1.6s\n",
      "[CV] END random_forest__bootstrap=True, random_forest__max_depth=None, random_forest__max_features=log2, random_forest__min_samples_leaf=2, random_forest__min_samples_split=5, random_forest__n_estimators=153; total time=   1.5s\n",
      "[CV] END random_forest__bootstrap=False, random_forest__max_depth=100, random_forest__max_features=log2, random_forest__min_samples_leaf=2, random_forest__min_samples_split=5, random_forest__n_estimators=351; total time=   5.4s\n",
      "[CV] END random_forest__bootstrap=False, random_forest__max_depth=100, random_forest__max_features=log2, random_forest__min_samples_leaf=2, random_forest__min_samples_split=5, random_forest__n_estimators=351; total time=   5.6s\n",
      "[CV] END random_forest__bootstrap=False, random_forest__max_depth=100, random_forest__max_features=log2, random_forest__min_samples_leaf=2, random_forest__min_samples_split=5, random_forest__n_estimators=351; total time=   5.7s\n",
      "[CV] END random_forest__bootstrap=True, random_forest__max_depth=None, random_forest__max_features=1.0, random_forest__min_samples_leaf=1, random_forest__min_samples_split=2, random_forest__n_estimators=353; total time=  15.6s\n",
      "[CV] END random_forest__bootstrap=True, random_forest__max_depth=None, random_forest__max_features=sqrt, random_forest__min_samples_leaf=2, random_forest__min_samples_split=9, random_forest__n_estimators=187; total time=   1.8s\n",
      "[CV] END random_forest__bootstrap=True, random_forest__max_depth=10, random_forest__max_features=1.0, random_forest__min_samples_leaf=2, random_forest__min_samples_split=7, random_forest__n_estimators=194; total time=   5.3s\n",
      "[CV] END random_forest__bootstrap=True, random_forest__max_depth=None, random_forest__max_features=sqrt, random_forest__min_samples_leaf=2, random_forest__min_samples_split=9, random_forest__n_estimators=187; total time=   1.8s\n",
      "[CV] END random_forest__bootstrap=True, random_forest__max_depth=None, random_forest__max_features=1.0, random_forest__min_samples_leaf=1, random_forest__min_samples_split=2, random_forest__n_estimators=353; total time=  16.0s\n",
      "[CV] END random_forest__bootstrap=True, random_forest__max_depth=None, random_forest__max_features=sqrt, random_forest__min_samples_leaf=2, random_forest__min_samples_split=9, random_forest__n_estimators=187; total time=   2.0s\n",
      "[CV] END random_forest__bootstrap=True, random_forest__max_depth=None, random_forest__max_features=1.0, random_forest__min_samples_leaf=1, random_forest__min_samples_split=2, random_forest__n_estimators=353; total time=  15.7s\n",
      "[CV] END random_forest__bootstrap=True, random_forest__max_depth=10, random_forest__max_features=1.0, random_forest__min_samples_leaf=2, random_forest__min_samples_split=7, random_forest__n_estimators=194; total time=   5.4s\n",
      "[CV] END random_forest__bootstrap=True, random_forest__max_depth=10, random_forest__max_features=1.0, random_forest__min_samples_leaf=2, random_forest__min_samples_split=7, random_forest__n_estimators=194; total time=   5.5s\n",
      "[CV] END random_forest__bootstrap=True, random_forest__max_depth=100, random_forest__max_features=log2, random_forest__min_samples_leaf=1, random_forest__min_samples_split=2, random_forest__n_estimators=326; total time=   4.2s\n",
      "[CV] END random_forest__bootstrap=True, random_forest__max_depth=100, random_forest__max_features=log2, random_forest__min_samples_leaf=1, random_forest__min_samples_split=2, random_forest__n_estimators=326; total time=   4.2s\n",
      "[CV] END random_forest__bootstrap=True, random_forest__max_depth=100, random_forest__max_features=log2, random_forest__min_samples_leaf=1, random_forest__min_samples_split=2, random_forest__n_estimators=326; total time=   4.1s\n",
      "[CV] END random_forest__bootstrap=False, random_forest__max_depth=100, random_forest__max_features=1.0, random_forest__min_samples_leaf=2, random_forest__min_samples_split=4, random_forest__n_estimators=200; total time=  12.0s\n",
      "[CV] END random_forest__bootstrap=False, random_forest__max_depth=100, random_forest__max_features=1.0, random_forest__min_samples_leaf=2, random_forest__min_samples_split=4, random_forest__n_estimators=200; total time=  12.8s\n",
      "[CV] END random_forest__bootstrap=False, random_forest__max_depth=100, random_forest__max_features=1.0, random_forest__min_samples_leaf=2, random_forest__min_samples_split=4, random_forest__n_estimators=200; total time=  12.4s\n",
      "[CV] END random_forest__bootstrap=True, random_forest__max_depth=50, random_forest__max_features=1.0, random_forest__min_samples_leaf=1, random_forest__min_samples_split=6, random_forest__n_estimators=306; total time=  10.6s\n",
      "[CV] END random_forest__bootstrap=True, random_forest__max_depth=50, random_forest__max_features=1.0, random_forest__min_samples_leaf=1, random_forest__min_samples_split=6, random_forest__n_estimators=306; total time=  10.7s\n",
      "[CV] END random_forest__bootstrap=True, random_forest__max_depth=50, random_forest__max_features=1.0, random_forest__min_samples_leaf=1, random_forest__min_samples_split=6, random_forest__n_estimators=306; total time=  10.3s\n"
     ]
    }
   ],
   "source": [
    "from sklearn.model_selection import RandomizedSearchCV\n",
    "from sklearn.ensemble import RandomForestRegressor\n",
    "from scipy.stats import randint\n",
    "\n",
    "full_pipeline = Pipeline([(\"preprocessing\", preprocessing), (\"random_forest\", RandomForestRegressor(random_state=42))])\n",
    "\n",
    "\n",
    "param_dist = {\n",
    "    'random_forest__n_estimators': randint(low=100, high=400),\n",
    "    'random_forest__max_features': [1.0 , 'sqrt', 'log2'],\n",
    "    'random_forest__max_depth': [10, 50, 100, None],\n",
    "    'random_forest__min_samples_split': randint(low=2, high=10),\n",
    "    'random_forest__min_samples_leaf': randint(low=1, high=3),\n",
    "    'random_forest__bootstrap': [True, False]\n",
    "}\n",
    "\n",
    "rnd_search = RandomizedSearchCV(full_pipeline, param_distributions=param_dist, n_iter=50, cv=3, scoring='neg_root_mean_squared_error', random_state=1, n_jobs=-1, verbose=2)\n",
    "\n",
    "y_train_log = np.log1p(y_train)\n",
    "\n",
    "rnd_search.fit(X_train, y_train_log)\n",
    "\n",
    "final_model_2 = rnd_search.best_estimator_"
   ]
  },
  {
   "cell_type": "code",
   "execution_count": 20,
   "metadata": {},
   "outputs": [
    {
     "data": {
      "text/plain": [
       "({'random_forest__bootstrap': True,\n",
       "  'random_forest__max_depth': None,\n",
       "  'random_forest__max_features': 1.0,\n",
       "  'random_forest__min_samples_leaf': 1,\n",
       "  'random_forest__min_samples_split': 2,\n",
       "  'random_forest__n_estimators': 353},\n",
       " array([1.06374833e-02, 1.97819420e-02, 4.85077839e-02, 4.52631673e-02,\n",
       "        4.10449923e-02, 3.24923037e-02, 5.70198669e-01, 8.11610003e-02,\n",
       "        6.09563739e-04, 3.50438984e-03, 6.99417847e-03, 5.98090653e-03,\n",
       "        1.33561410e-01, 2.62209629e-04]))"
      ]
     },
     "execution_count": 20,
     "metadata": {},
     "output_type": "execute_result"
    }
   ],
   "source": [
    "feature_importance = final_model_2[\"random_forest\"].feature_importances_\n",
    "\n",
    "feature_importance.round(2)\n",
    "\n",
    "rnd_search.best_params_, feature_importance"
   ]
  },
  {
   "cell_type": "code",
   "execution_count": null,
   "metadata": {},
   "outputs": [],
   "source": [
    "# from sklearn.model_selection import cross_val_score\n",
    "\n",
    "# Rmse = -cross_val_score(final_model_2, X_train, y_train, scoring='neg_root_mean_squared_error', cv=5, n_jobs=-1)\n",
    "\n",
    "# pd.Series(Rmse).describe()"
   ]
  },
  {
   "cell_type": "markdown",
   "metadata": {},
   "source": [
    "# Testing the model"
   ]
  },
  {
   "cell_type": "code",
   "execution_count": 21,
   "metadata": {},
   "outputs": [
    {
     "data": {
      "text/plain": [
       "2.156247752607154"
      ]
     },
     "execution_count": 21,
     "metadata": {},
     "output_type": "execute_result"
    }
   ],
   "source": [
    "from sklearn.metrics import mean_squared_error\n",
    "\n",
    "final_pred_log = final_model_2.predict(X_test)\n",
    "\n",
    "final_pred = np.expm1(final_pred_log)\n",
    "\n",
    "final_rmse = mean_squared_error(y_test, final_pred, squared=False)\n",
    "\n",
    "final_rmse\n",
    "# Result : 2.146\n",
    "\n"
   ]
  },
  {
   "cell_type": "code",
   "execution_count": 23,
   "metadata": {},
   "outputs": [
    {
     "data": {
      "image/png": "[encoded data removed]",
      "text/plain": [
       "<Figure size 1000x1000 with 1 Axes>"
      ]
     },
     "metadata": {},
     "output_type": "display_data"
    }
   ],
   "source": [
    "\n",
    "\n",
    "# Convert numpy arrays to pandas Series\n",
    "final_pred_series = pd.Series(final_pred, name=\"Predicted\", index=y_test.index)\n",
    "y_test_series = pd.Series(y_test, name=\"Actual\")\n",
    "\n",
    "# Create a new figure for the scatter plot of the predictions\n",
    "plt.figure(figsize=(10, 10))\n",
    "plt.scatter(y_test_series, final_pred_series, alpha=0.5)\n",
    "plt.plot([y_test_series.min(), y_test_series.max()], [y_test_series.min(), y_test_series.max()], 'k--', lw=2, label='Perfect Prediction')\n",
    "plt.xlabel(\"Actual Values\")\n",
    "plt.ylabel(\"Predicted Values\")\n",
    "plt.title(\"Predicted vs Actual Values\")\n",
    "plt.legend()\n",
    "plt.grid(True)\n",
    "plt.show()\n"
   ]
  },
  {
   "cell_type": "code",
   "execution_count": 22,
   "metadata": {},
   "outputs": [
    {
     "data": {
      "text/plain": [
       "['Model_vesrion_2_Log.pkl']"
      ]
     },
     "execution_count": 22,
     "metadata": {},
     "output_type": "execute_result"
    }
   ],
   "source": [
    "import joblib\n",
    "\n",
    "joblib.dump(final_model_2, \"Model_vesrion_2_Log.pkl\")"
   ]
  },
  {
   "cell_type": "code",
   "execution_count": null,
   "metadata": {},
   "outputs": [],
   "source": [
    "\n",
    "\n"
   ]
  }
 ],
 "metadata": {
  "kernelspec": {
   "display_name": "Python 3 (ipykernel)",
   "language": "python",
   "name": "python3"
  },
  "language_info": {
   "codemirror_mode": {
    "name": "ipython",
    "version": 3
   },
   "file_extension": ".py",
   "mimetype": "text/x-python",
   "name": "python",
   "nbconvert_exporter": "python",
   "pygments_lexer": "ipython3",
   "version": "3.11.3"
  }
 },
 "nbformat": 4,
 "nbformat_minor": 4
}
