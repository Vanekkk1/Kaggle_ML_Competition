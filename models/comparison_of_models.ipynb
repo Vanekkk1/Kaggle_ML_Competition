{
 "cells": [
  {
   "cell_type": "code",
   "execution_count": 33,
   "metadata": {},
   "outputs": [],
   "source": [
    "import pandas as pd\n",
    "\n",
    "df_1 = pd.read_csv('Predictions_Model_1.csv', header=0, index_col='ID')\n",
    "\n",
    "df_2 = pd.read_csv('Predictions_Model_2.csv', header=0, index_col='ID')\n",
    "\n",
    "df_3 = pd.read_csv('Predictions_Model_3.csv', header=0, index_col='ID')\n",
    "\n",
    "df_neuro = pd.read_csv(\"CatBoostTest/Neural_pred.csv\", header=0, index_col='ID')\n"
   ]
  },
  {
   "cell_type": "code",
   "execution_count": null,
   "metadata": {},
   "outputs": [],
   "source": [
    "df_1[\"Res_Norm_1\"].describe(percentiles=[.1, .2, .3, .4, .5, .6, .7, .8, .9])\n"
   ]
  },
  {
   "cell_type": "code",
   "execution_count": null,
   "metadata": {},
   "outputs": [],
   "source": [
    "df_2[\"Res_Norm_2\"].describe(percentiles=[.1, .2, .3, .4, .5, .6, .7, .8, .9])"
   ]
  },
  {
   "cell_type": "code",
   "execution_count": null,
   "metadata": {},
   "outputs": [],
   "source": [
    "df_3[\"Res_Norm_3\"].describe(percentiles=[.1, .2, .3, .4, .5, .6, .7, .8, .9])"
   ]
  },
  {
   "cell_type": "code",
   "execution_count": null,
   "metadata": {},
   "outputs": [],
   "source": [
    "df_neuro[\"Res_Norm_Neuro\"].describe(percentiles=[.1, .2, .3, .4, .5, .6, .7, .8, .9])"
   ]
  },
  {
   "cell_type": "markdown",
   "metadata": {},
   "source": [
    "# Advanced Comparison"
   ]
  },
  {
   "cell_type": "code",
   "execution_count": 36,
   "metadata": {},
   "outputs": [
    {
     "data": {
      "text/html": [
       "<div>\n",
       "<style scoped>\n",
       "    .dataframe tbody tr th:only-of-type {\n",
       "        vertical-align: middle;\n",
       "    }\n",
       "\n",
       "    .dataframe tbody tr th {\n",
       "        vertical-align: top;\n",
       "    }\n",
       "\n",
       "    .dataframe thead th {\n",
       "        text-align: right;\n",
       "    }\n",
       "</style>\n",
       "<table border=\"1\" class=\"dataframe\">\n",
       "  <thead>\n",
       "    <tr style=\"text-align: right;\">\n",
       "      <th></th>\n",
       "      <th>Model</th>\n",
       "      <th>MAE</th>\n",
       "      <th>MSE</th>\n",
       "      <th>RMSE</th>\n",
       "      <th>R2</th>\n",
       "      <th>MAPE</th>\n",
       "    </tr>\n",
       "  </thead>\n",
       "  <tbody>\n",
       "    <tr>\n",
       "      <th>0</th>\n",
       "      <td>Model_1</td>\n",
       "      <td>0.704666</td>\n",
       "      <td>4.608324</td>\n",
       "      <td>2.146701</td>\n",
       "      <td>0.868452</td>\n",
       "      <td>0.446642</td>\n",
       "    </tr>\n",
       "    <tr>\n",
       "      <th>1</th>\n",
       "      <td>Model_2</td>\n",
       "      <td>0.680515</td>\n",
       "      <td>4.649404</td>\n",
       "      <td>2.156248</td>\n",
       "      <td>0.857547</td>\n",
       "      <td>0.274461</td>\n",
       "    </tr>\n",
       "    <tr>\n",
       "      <th>2</th>\n",
       "      <td>Model_3</td>\n",
       "      <td>0.676626</td>\n",
       "      <td>4.280963</td>\n",
       "      <td>2.069049</td>\n",
       "      <td>0.878011</td>\n",
       "      <td>0.281040</td>\n",
       "    </tr>\n",
       "    <tr>\n",
       "      <th>3</th>\n",
       "      <td>Model_Neuro</td>\n",
       "      <td>0.962447</td>\n",
       "      <td>14.356609</td>\n",
       "      <td>3.789012</td>\n",
       "      <td>0.874112</td>\n",
       "      <td>0.243426</td>\n",
       "    </tr>\n",
       "  </tbody>\n",
       "</table>\n",
       "</div>"
      ],
      "text/plain": [
       "         Model       MAE        MSE      RMSE        R2      MAPE\n",
       "0      Model_1  0.704666   4.608324  2.146701  0.868452  0.446642\n",
       "1      Model_2  0.680515   4.649404  2.156248  0.857547  0.274461\n",
       "2      Model_3  0.676626   4.280963  2.069049  0.878011  0.281040\n",
       "3  Model_Neuro  0.962447  14.356609  3.789012  0.874112  0.243426"
      ]
     },
     "execution_count": 36,
     "metadata": {},
     "output_type": "execute_result"
    }
   ],
   "source": [
    "from sklearn.metrics import mean_absolute_error, mean_squared_error, r2_score, mean_absolute_percentage_error\n",
    "import pandas as pd\n",
    "from math import sqrt\n",
    "\n",
    "def calculate_metrics_as_df(df, model_name):\n",
    "    actual_col = f'Actual_{model_name}'\n",
    "    predicted_col = f'Predicted_{model_name}'\n",
    "    actual = df[actual_col]\n",
    "    predicted = df[predicted_col]\n",
    "    mae = mean_absolute_error(actual, predicted)\n",
    "    mse = mean_squared_error(actual, predicted)\n",
    "    rmse = sqrt(mse)\n",
    "    r2 = r2_score(actual, predicted)\n",
    "    mape = mean_absolute_percentage_error(actual, predicted)\n",
    "    return pd.DataFrame({'Model': f'Model_{model_name}', 'MAE': [mae], 'MSE': [mse], 'RMSE': [rmse], 'R2': [r2], 'MAPE': [mape]})\n",
    "\n",
    "models = [df_1, df_2, df_3, df_neuro]\n",
    "model_names = ['1', '2', '3', 'Neuro']\n",
    "\n",
    "# list comprehension to create a list of dataframes, then concatenate\n",
    "metrics_df = pd.concat([calculate_metrics_as_df(df, name) for df, name in zip(models, model_names)], ignore_index=True)\n",
    "\n",
    "metrics_df\n",
    "\n",
    "\n"
   ]
  }
 ],
 "metadata": {
  "kernelspec": {
   "display_name": "base",
   "language": "python",
   "name": "python3"
  },
  "language_info": {
   "codemirror_mode": {
    "name": "ipython",
    "version": 3
   },
   "file_extension": ".py",
   "mimetype": "text/x-python",
   "name": "python",
   "nbconvert_exporter": "python",
   "pygments_lexer": "ipython3",
   "version": "3.11.3"
  },
  "orig_nbformat": 4
 },
 "nbformat": 4,
 "nbformat_minor": 2
}
