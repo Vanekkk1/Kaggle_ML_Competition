{
 "cells": [
  {
   "cell_type": "code",
   "execution_count": null,
   "metadata": {},
   "outputs": [],
   "source": [
    "from sklearn.base import BaseEstimator, TransformerMixin\n",
    "from sklearn.pipeline import Pipeline, make_pipeline\n",
    "from sklearn.preprocessing import OneHotEncoder, FunctionTransformer, StandardScaler\n",
    "from sklearn.compose import ColumnTransformer, make_column_selector\n",
    "from sklearn.utils.validation import check_is_fitted\n",
    "import numpy as np\n",
    "import pandas as pd\n",
    "\n",
    "# Custom transformer for frequency encoding\n",
    "class FrequencyEncoder(BaseEstimator, TransformerMixin):\n",
    "    def __init__(self):\n",
    "        self.freq_dict_ = {}\n",
    "\n",
    "    def fit(self, X, y=None):\n",
    "        # Compute the frequency of each category in each column\n",
    "        X_df = pd.DataFrame(X)  # Convert numpy array to DataFrame\n",
    "        self.freq_dict_ = {col: X_df[col].value_counts(normalize=True).to_dict() for col in X_df.columns}\n",
    "        return self\n",
    "\n",
    "    def transform(self, X, y=None):\n",
    "        check_is_fitted(self)\n",
    "        X_transformed = pd.DataFrame(X).copy()  # Convert numpy array to DataFrame\n",
    "        # Replace each category with its frequency\n",
    "        for col in X_transformed.columns:\n",
    "            X_transformed[col] = X_transformed[col].map(self.freq_dict_[col])\n",
    "        return X_transformed.values  # Return numpy array\n",
    "\n",
    "# Pipelines for frequency encoding and one hot encoding\n",
    "freq_enc_pipeline = Pipeline(steps=[('freq_enc', FrequencyEncoder())])\n",
    "one_hot_enc_pipeline = Pipeline(steps=[('one_hot_enc', OneHotEncoder(sparse_output=False))])\n",
    "\n",
    "# Function to compute ratio, perform logarithmic transformation, and apply Standard Scaling\n",
    "def compute_ratio_log_drop(df):\n",
    "    df_copy = df.copy()\n",
    "    df_copy[\"Log_Pesticide_per_hectar\"] = np.log1p(df[\"Pesticide\"] / df[\"Area\"])\n",
    "    df_copy[\"Log_Fertilizer_per_hectar\"] = np.log1p(df[\"Fertilizer\"] / df[\"Area\"])\n",
    "    df_copy = df_copy.drop(columns=[\"Pesticide\", \"Fertilizer\", \"Area\"])\n",
    "    return df_copy\n",
    "\n",
    "# Function to perform logarithmic transformation and apply Standard Scaling\n",
    "def log_transform_drop(df):\n",
    "    df_copy = df.copy()\n",
    "    df_copy[\"Log_annual_rainfall\"] = np.log1p(df[\"Annual_Rainfall\"])\n",
    "    df_copy = df_copy.drop(columns=[\"Annual_Rainfall\"])\n",
    "    return df_copy\n",
    "\n",
    "ratio_pipeline = make_pipeline(FunctionTransformer(compute_ratio_log_drop), StandardScaler())\n",
    "\n",
    "log_pipiline = make_pipeline(FunctionTransformer(log_transform_drop), StandardScaler())\n",
    "\n",
    "# Update the preprocessing pipeline\n",
    "preprocessing = ColumnTransformer([\n",
    "    (\"compute_ratio_log_and_scale\", ratio_pipeline, [\"Pesticide\", \"Area\", \"Fertilizer\"]),\n",
    "    (\"log_transform_and_scale\", log_pipiline, [\"Annual_Rainfall\"]),\n",
    "    (\"freq_enc\", freq_enc_pipeline, [\"Crop\", \"State\"]),\n",
    "    (\"one_hot_enc\", one_hot_enc_pipeline, [\"Season\"])\n",
    "])\n"
   ]
  },
  {
   "cell_type": "code",
   "execution_count": null,
   "metadata": {},
   "outputs": [],
   "source": [
    "import joblib \n",
    "\n",
    "model_3_loaded = joblib.load(\"Model_vesrion_3_Log.pkl\")"
   ]
  },
  {
   "cell_type": "code",
   "execution_count": 17,
   "metadata": {},
   "outputs": [],
   "source": [
    "def cleaning():\n",
    "    df = pd.read_csv('crop_yield.csv', header=0, index_col='ID')\n",
    "    df.drop(columns=['Crop_Year', 'Production'], inplace=True)\n",
    "    df = df[(df['Yield'] > 0.1) & (df['Yield'] <= 50)]\n",
    "    df = df[df[\"Crop\"] != 'Coconut']\n",
    "    return df"
   ]
  },
  {
   "cell_type": "code",
   "execution_count": 23,
   "metadata": {},
   "outputs": [],
   "source": [
    "new_data = cleaning()\n",
    "\n",
    "new_data_for_pred = new_data.drop(columns='Yield')"
   ]
  },
  {
   "cell_type": "code",
   "execution_count": 24,
   "metadata": {},
   "outputs": [],
   "source": [
    "predictions = model_3_loaded.predict(new_data_for_pred)"
   ]
  },
  {
   "cell_type": "code",
   "execution_count": 25,
   "metadata": {},
   "outputs": [],
   "source": [
    "df_check = pd.DataFrame({\"Actual_3\": new_data['Yield'],\"Predicted_3\": predictions})"
   ]
  },
  {
   "cell_type": "code",
   "execution_count": 28,
   "metadata": {},
   "outputs": [
    {
     "data": {
      "text/html": [
       "<div>\n",
       "<style scoped>\n",
       "    .dataframe tbody tr th:only-of-type {\n",
       "        vertical-align: middle;\n",
       "    }\n",
       "\n",
       "    .dataframe tbody tr th {\n",
       "        vertical-align: top;\n",
       "    }\n",
       "\n",
       "    .dataframe thead th {\n",
       "        text-align: right;\n",
       "    }\n",
       "</style>\n",
       "<table border=\"1\" class=\"dataframe\">\n",
       "  <thead>\n",
       "    <tr style=\"text-align: right;\">\n",
       "      <th></th>\n",
       "      <th>Model</th>\n",
       "      <th>MAE</th>\n",
       "      <th>MSE</th>\n",
       "      <th>RMSE</th>\n",
       "      <th>R2</th>\n",
       "      <th>MAPE</th>\n",
       "    </tr>\n",
       "  </thead>\n",
       "  <tbody>\n",
       "    <tr>\n",
       "      <th>0</th>\n",
       "      <td>Model_3</td>\n",
       "      <td>2.003518</td>\n",
       "      <td>31.477605</td>\n",
       "      <td>5.610491</td>\n",
       "      <td>0.081636</td>\n",
       "      <td>0.375837</td>\n",
       "    </tr>\n",
       "  </tbody>\n",
       "</table>\n",
       "</div>"
      ],
      "text/plain": [
       "     Model       MAE        MSE      RMSE        R2      MAPE\n",
       "0  Model_3  2.003518  31.477605  5.610491  0.081636  0.375837"
      ]
     },
     "execution_count": 28,
     "metadata": {},
     "output_type": "execute_result"
    }
   ],
   "source": [
    "from sklearn.metrics import mean_absolute_error, mean_squared_error, r2_score, mean_absolute_percentage_error\n",
    "from math import sqrt\n",
    "\n",
    "\n",
    "def calculate_metrics_as_df(df, model_name):\n",
    "    actual_col = f'Actual_{model_name}'\n",
    "    predicted_col = f'Predicted_{model_name}'\n",
    "    actual = df[actual_col]\n",
    "    predicted = df[predicted_col]\n",
    "    mae = mean_absolute_error(actual, predicted)\n",
    "    mse = mean_squared_error(actual, predicted)\n",
    "    rmse = sqrt(mse)\n",
    "    r2 = r2_score(actual, predicted)\n",
    "    mape = mean_absolute_percentage_error(actual, predicted)\n",
    "    return pd.DataFrame({'Model': f'Model_{model_name}', 'MAE': [mae], 'MSE': [mse], 'RMSE': [rmse], 'R2': [r2], 'MAPE': [mape]})\n",
    "\n",
    "\n",
    "metrics = calculate_metrics_as_df(df_check, 3)\n",
    "\n",
    "metrics"
   ]
  }
 ],
 "metadata": {
  "kernelspec": {
   "display_name": "Python 3",
   "language": "python",
   "name": "python3"
  },
  "language_info": {
   "codemirror_mode": {
    "name": "ipython",
    "version": 3
   },
   "file_extension": ".py",
   "mimetype": "text/x-python",
   "name": "python",
   "nbconvert_exporter": "python",
   "pygments_lexer": "ipython3",
   "version": "3.11.3"
  },
  "orig_nbformat": 4
 },
 "nbformat": 4,
 "nbformat_minor": 2
}
